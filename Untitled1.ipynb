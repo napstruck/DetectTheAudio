{
  "nbformat": 4,
  "nbformat_minor": 0,
  "metadata": {
    "colab": {
      "provenance": [],
      "authorship_tag": "ABX9TyM/w2PHmzDI9e6tz0S5gO87",
      "include_colab_link": true
    },
    "kernelspec": {
      "name": "python3",
      "display_name": "Python 3"
    },
    "language_info": {
      "name": "python"
    }
  },
  "cells": [
    {
      "cell_type": "markdown",
      "metadata": {
        "id": "view-in-github",
        "colab_type": "text"
      },
      "source": [
        "<a href=\"https://colab.research.google.com/github/napstruck/DetectTheAudio/blob/main/Untitled1.ipynb\" target=\"_parent\"><img src=\"https://colab.research.google.com/assets/colab-badge.svg\" alt=\"Open In Colab\"/></a>"
      ]
    },
    {
      "cell_type": "code",
      "execution_count": 1,
      "metadata": {
        "colab": {
          "base_uri": "https://localhost:8080/"
        },
        "id": "57rXktoVPJpm",
        "outputId": "5de53b17-5f49-4573-81b9-602e73ae99a0"
      },
      "outputs": [
        {
          "output_type": "stream",
          "name": "stdout",
          "text": [
            "This is Deepfake Audio detection using Federated Learning\n"
          ]
        }
      ],
      "source": [
        "print(\"This is Deepfake Audio detection using Federated Learning\")"
      ]
    },
    {
      "cell_type": "code",
      "source": [
        "# Checking to see if excel sheet can be read\n",
        "import pandas as pd\n",
        "\n",
        "file_path = \"/content/wildorg_audio2.xlsx\"\n",
        "\n",
        "try:\n",
        "    df = pd.read_excel(file_path)\n",
        "    print(\"✅ Excel file loaded successfully!\")\n",
        "\n",
        "\n",
        "    print(df.head())\n",
        "\n",
        "except Exception as e:\n",
        "    print(\"❌ Error reading Excel file:\", e)\n"
      ],
      "metadata": {
        "colab": {
          "base_uri": "https://localhost:8080/"
        },
        "id": "DhR58lf1P2Q_",
        "outputId": "205f4a9c-7ac0-4e14-cf1c-2d47248e3171"
      },
      "execution_count": 7,
      "outputs": [
        {
          "output_type": "stream",
          "name": "stdout",
          "text": [
            "✅ Excel file loaded successfully!\n",
            "   File_Name  Label\n",
            "0   5272.wav      0\n",
            "1  20294.wav      0\n",
            "2  27275.wav      1\n",
            "3   2574.wav      0\n",
            "4   6500.wav      0\n"
          ]
        }
      ]
    },
    {
      "cell_type": "code",
      "source": [],
      "metadata": {
        "id": "xnIaK9NqQnb-"
      },
      "execution_count": null,
      "outputs": []
    }
  ]
}