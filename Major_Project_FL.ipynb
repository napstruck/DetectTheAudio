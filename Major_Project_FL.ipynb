{
  "nbformat": 4,
  "nbformat_minor": 0,
  "metadata": {
    "colab": {
      "provenance": [],
      "authorship_tag": "ABX9TyN7nKdtY5lDy/AUHbNY2SE1",
      "include_colab_link": true
    },
    "kernelspec": {
      "name": "python3",
      "display_name": "Python 3"
    },
    "language_info": {
      "name": "python"
    }
  },
  "cells": [
    {
      "cell_type": "markdown",
      "metadata": {
        "id": "view-in-github",
        "colab_type": "text"
      },
      "source": [
        "<a href=\"https://colab.research.google.com/github/napstruck/DetectTheAudio/blob/branch-1/Major_Project_FL.ipynb\" target=\"_parent\"><img src=\"https://colab.research.google.com/assets/colab-badge.svg\" alt=\"Open In Colab\"/></a>"
      ]
    },
    {
      "cell_type": "markdown",
      "source": [
        "Installation and Data set extraction"
      ],
      "metadata": {
        "id": "6JnutrFtYqjp"
      }
    },
    {
      "cell_type": "code",
      "source": [
        "# prompt: Install all tensorflow-federated and librosa that is compatible with now version of google colab\n",
        "\n",
        "!pip install tensorflow-federated\n",
        "!pip install librosa\n"
      ],
      "metadata": {
        "colab": {
          "base_uri": "https://localhost:8080/"
        },
        "id": "N90c2kfmc9Bb",
        "outputId": "ebb91550-45f3-4afd-998f-785eaa07b4ec"
      },
      "execution_count": 1,
      "outputs": [
        {
          "output_type": "stream",
          "name": "stdout",
          "text": [
            "Requirement already satisfied: tensorflow-federated in /usr/local/lib/python3.11/dist-packages (0.87.0)\n",
            "Requirement already satisfied: absl-py==1.*,>=1.0 in /usr/local/lib/python3.11/dist-packages (from tensorflow-federated) (1.4.0)\n",
            "Requirement already satisfied: attrs~=23.1 in /usr/local/lib/python3.11/dist-packages (from tensorflow-federated) (23.1.0)\n",
            "Requirement already satisfied: cachetools~=5.3 in /usr/local/lib/python3.11/dist-packages (from tensorflow-federated) (5.5.1)\n",
            "Requirement already satisfied: dm-tree==0.1.8 in /usr/local/lib/python3.11/dist-packages (from tensorflow-federated) (0.1.8)\n",
            "Requirement already satisfied: dp-accounting==0.4.3 in /usr/local/lib/python3.11/dist-packages (from tensorflow-federated) (0.4.3)\n",
            "Requirement already satisfied: google-vizier==0.1.11 in /usr/local/lib/python3.11/dist-packages (from tensorflow-federated) (0.1.11)\n",
            "Requirement already satisfied: grpcio~=1.46 in /usr/local/lib/python3.11/dist-packages (from tensorflow-federated) (1.70.0)\n",
            "Requirement already satisfied: jaxlib==0.4.14 in /usr/local/lib/python3.11/dist-packages (from tensorflow-federated) (0.4.14)\n",
            "Requirement already satisfied: jax==0.4.14 in /usr/local/lib/python3.11/dist-packages (from tensorflow-federated) (0.4.14)\n",
            "Requirement already satisfied: ml-dtypes==0.2.*,>=0.2.0 in /usr/local/lib/python3.11/dist-packages (from tensorflow-federated) (0.2.0)\n",
            "Requirement already satisfied: numpy~=1.25 in /usr/local/lib/python3.11/dist-packages (from tensorflow-federated) (1.25.2)\n",
            "Requirement already satisfied: portpicker~=1.6 in /usr/local/lib/python3.11/dist-packages (from tensorflow-federated) (1.6.0)\n",
            "Requirement already satisfied: scipy~=1.9.3 in /usr/local/lib/python3.11/dist-packages (from tensorflow-federated) (1.9.3)\n",
            "Requirement already satisfied: tensorflow-model-optimization==0.7.5 in /usr/local/lib/python3.11/dist-packages (from tensorflow-federated) (0.7.5)\n",
            "Requirement already satisfied: tensorflow-privacy==0.9.0 in /usr/local/lib/python3.11/dist-packages (from tensorflow-federated) (0.9.0)\n",
            "Requirement already satisfied: tensorflow==2.14.*,>=2.14.0 in /usr/local/lib/python3.11/dist-packages (from tensorflow-federated) (2.14.1)\n",
            "Requirement already satisfied: tqdm~=4.64 in /usr/local/lib/python3.11/dist-packages (from tensorflow-federated) (4.67.1)\n",
            "Requirement already satisfied: typing-extensions==4.5.*,>=4.5.0 in /usr/local/lib/python3.11/dist-packages (from tensorflow-federated) (4.5.0)\n",
            "Requirement already satisfied: googleapis-common-protos==1.61.0 in /usr/local/lib/python3.11/dist-packages (from tensorflow-federated) (1.61.0)\n",
            "Requirement already satisfied: mpmath~=1.2 in /usr/local/lib/python3.11/dist-packages (from dp-accounting==0.4.3->tensorflow-federated) (1.3.0)\n",
            "Requirement already satisfied: protobuf>=3.6 in /usr/local/lib/python3.11/dist-packages (from google-vizier==0.1.11->tensorflow-federated) (4.25.6)\n",
            "Requirement already satisfied: grpcio-tools>=1.35.0 in /usr/local/lib/python3.11/dist-packages (from google-vizier==0.1.11->tensorflow-federated) (1.62.3)\n",
            "Requirement already satisfied: sqlalchemy<=1.4.20,>=1.4 in /usr/local/lib/python3.11/dist-packages (from google-vizier==0.1.11->tensorflow-federated) (1.4.20)\n",
            "Requirement already satisfied: opt_einsum in /usr/local/lib/python3.11/dist-packages (from jax==0.4.14->tensorflow-federated) (3.4.0)\n",
            "Requirement already satisfied: astunparse>=1.6.0 in /usr/local/lib/python3.11/dist-packages (from tensorflow==2.14.*,>=2.14.0->tensorflow-federated) (1.6.3)\n",
            "Requirement already satisfied: flatbuffers>=23.5.26 in /usr/local/lib/python3.11/dist-packages (from tensorflow==2.14.*,>=2.14.0->tensorflow-federated) (25.1.24)\n",
            "Requirement already satisfied: gast!=0.5.0,!=0.5.1,!=0.5.2,>=0.2.1 in /usr/local/lib/python3.11/dist-packages (from tensorflow==2.14.*,>=2.14.0->tensorflow-federated) (0.6.0)\n",
            "Requirement already satisfied: google-pasta>=0.1.1 in /usr/local/lib/python3.11/dist-packages (from tensorflow==2.14.*,>=2.14.0->tensorflow-federated) (0.2.0)\n",
            "Requirement already satisfied: h5py>=2.9.0 in /usr/local/lib/python3.11/dist-packages (from tensorflow==2.14.*,>=2.14.0->tensorflow-federated) (3.12.1)\n",
            "Requirement already satisfied: libclang>=13.0.0 in /usr/local/lib/python3.11/dist-packages (from tensorflow==2.14.*,>=2.14.0->tensorflow-federated) (18.1.1)\n",
            "Requirement already satisfied: packaging in /usr/local/lib/python3.11/dist-packages (from tensorflow==2.14.*,>=2.14.0->tensorflow-federated) (22.0)\n",
            "Requirement already satisfied: setuptools in /usr/local/lib/python3.11/dist-packages (from tensorflow==2.14.*,>=2.14.0->tensorflow-federated) (75.8.0)\n",
            "Requirement already satisfied: six>=1.12.0 in /usr/local/lib/python3.11/dist-packages (from tensorflow==2.14.*,>=2.14.0->tensorflow-federated) (1.17.0)\n",
            "Requirement already satisfied: termcolor>=1.1.0 in /usr/local/lib/python3.11/dist-packages (from tensorflow==2.14.*,>=2.14.0->tensorflow-federated) (2.5.0)\n",
            "Requirement already satisfied: wrapt<1.15,>=1.11.0 in /usr/local/lib/python3.11/dist-packages (from tensorflow==2.14.*,>=2.14.0->tensorflow-federated) (1.14.1)\n",
            "Requirement already satisfied: tensorflow-io-gcs-filesystem>=0.23.1 in /usr/local/lib/python3.11/dist-packages (from tensorflow==2.14.*,>=2.14.0->tensorflow-federated) (0.37.1)\n",
            "Requirement already satisfied: tensorboard<2.15,>=2.14 in /usr/local/lib/python3.11/dist-packages (from tensorflow==2.14.*,>=2.14.0->tensorflow-federated) (2.14.1)\n",
            "Requirement already satisfied: tensorflow-estimator<2.15,>=2.14.0 in /usr/local/lib/python3.11/dist-packages (from tensorflow==2.14.*,>=2.14.0->tensorflow-federated) (2.14.0)\n",
            "Requirement already satisfied: keras<2.15,>=2.14.0 in /usr/local/lib/python3.11/dist-packages (from tensorflow==2.14.*,>=2.14.0->tensorflow-federated) (2.14.0)\n",
            "Requirement already satisfied: scikit-learn==1.*,>=1.0 in /usr/local/lib/python3.11/dist-packages (from tensorflow-privacy==0.9.0->tensorflow-federated) (1.6.1)\n",
            "Requirement already satisfied: tensorflow-probability~=0.22.0 in /usr/local/lib/python3.11/dist-packages (from tensorflow-privacy==0.9.0->tensorflow-federated) (0.22.1)\n",
            "Requirement already satisfied: joblib>=1.2.0 in /usr/local/lib/python3.11/dist-packages (from scikit-learn==1.*,>=1.0->tensorflow-privacy==0.9.0->tensorflow-federated) (1.4.2)\n",
            "Requirement already satisfied: threadpoolctl>=3.1.0 in /usr/local/lib/python3.11/dist-packages (from scikit-learn==1.*,>=1.0->tensorflow-privacy==0.9.0->tensorflow-federated) (3.5.0)\n",
            "Requirement already satisfied: psutil in /usr/local/lib/python3.11/dist-packages (from portpicker~=1.6->tensorflow-federated) (5.9.5)\n",
            "Requirement already satisfied: wheel<1.0,>=0.23.0 in /usr/local/lib/python3.11/dist-packages (from astunparse>=1.6.0->tensorflow==2.14.*,>=2.14.0->tensorflow-federated) (0.45.1)\n",
            "Requirement already satisfied: greenlet!=0.4.17 in /usr/local/lib/python3.11/dist-packages (from sqlalchemy<=1.4.20,>=1.4->google-vizier==0.1.11->tensorflow-federated) (3.1.1)\n",
            "Requirement already satisfied: google-auth<3,>=1.6.3 in /usr/local/lib/python3.11/dist-packages (from tensorboard<2.15,>=2.14->tensorflow==2.14.*,>=2.14.0->tensorflow-federated) (2.27.0)\n",
            "Requirement already satisfied: google-auth-oauthlib<1.1,>=0.5 in /usr/local/lib/python3.11/dist-packages (from tensorboard<2.15,>=2.14->tensorflow==2.14.*,>=2.14.0->tensorflow-federated) (1.0.0)\n",
            "Requirement already satisfied: markdown>=2.6.8 in /usr/local/lib/python3.11/dist-packages (from tensorboard<2.15,>=2.14->tensorflow==2.14.*,>=2.14.0->tensorflow-federated) (3.7)\n",
            "Requirement already satisfied: requests<3,>=2.21.0 in /usr/local/lib/python3.11/dist-packages (from tensorboard<2.15,>=2.14->tensorflow==2.14.*,>=2.14.0->tensorflow-federated) (2.32.3)\n",
            "Requirement already satisfied: tensorboard-data-server<0.8.0,>=0.7.0 in /usr/local/lib/python3.11/dist-packages (from tensorboard<2.15,>=2.14->tensorflow==2.14.*,>=2.14.0->tensorflow-federated) (0.7.2)\n",
            "Requirement already satisfied: werkzeug>=1.0.1 in /usr/local/lib/python3.11/dist-packages (from tensorboard<2.15,>=2.14->tensorflow==2.14.*,>=2.14.0->tensorflow-federated) (3.1.3)\n",
            "Requirement already satisfied: decorator in /usr/local/lib/python3.11/dist-packages (from tensorflow-probability~=0.22.0->tensorflow-privacy==0.9.0->tensorflow-federated) (4.4.2)\n",
            "Requirement already satisfied: cloudpickle>=1.3 in /usr/local/lib/python3.11/dist-packages (from tensorflow-probability~=0.22.0->tensorflow-privacy==0.9.0->tensorflow-federated) (3.1.1)\n",
            "Requirement already satisfied: pyasn1-modules>=0.2.1 in /usr/local/lib/python3.11/dist-packages (from google-auth<3,>=1.6.3->tensorboard<2.15,>=2.14->tensorflow==2.14.*,>=2.14.0->tensorflow-federated) (0.4.1)\n",
            "Requirement already satisfied: rsa<5,>=3.1.4 in /usr/local/lib/python3.11/dist-packages (from google-auth<3,>=1.6.3->tensorboard<2.15,>=2.14->tensorflow==2.14.*,>=2.14.0->tensorflow-federated) (4.9)\n",
            "Requirement already satisfied: requests-oauthlib>=0.7.0 in /usr/local/lib/python3.11/dist-packages (from google-auth-oauthlib<1.1,>=0.5->tensorboard<2.15,>=2.14->tensorflow==2.14.*,>=2.14.0->tensorflow-federated) (2.0.0)\n",
            "Requirement already satisfied: charset-normalizer<4,>=2 in /usr/local/lib/python3.11/dist-packages (from requests<3,>=2.21.0->tensorboard<2.15,>=2.14->tensorflow==2.14.*,>=2.14.0->tensorflow-federated) (3.4.1)\n",
            "Requirement already satisfied: idna<4,>=2.5 in /usr/local/lib/python3.11/dist-packages (from requests<3,>=2.21.0->tensorboard<2.15,>=2.14->tensorflow==2.14.*,>=2.14.0->tensorflow-federated) (3.10)\n",
            "Requirement already satisfied: urllib3<3,>=1.21.1 in /usr/local/lib/python3.11/dist-packages (from requests<3,>=2.21.0->tensorboard<2.15,>=2.14->tensorflow==2.14.*,>=2.14.0->tensorflow-federated) (2.3.0)\n",
            "Requirement already satisfied: certifi>=2017.4.17 in /usr/local/lib/python3.11/dist-packages (from requests<3,>=2.21.0->tensorboard<2.15,>=2.14->tensorflow==2.14.*,>=2.14.0->tensorflow-federated) (2025.1.31)\n",
            "Requirement already satisfied: MarkupSafe>=2.1.1 in /usr/local/lib/python3.11/dist-packages (from werkzeug>=1.0.1->tensorboard<2.15,>=2.14->tensorflow==2.14.*,>=2.14.0->tensorflow-federated) (3.0.2)\n",
            "Requirement already satisfied: pyasn1<0.7.0,>=0.4.6 in /usr/local/lib/python3.11/dist-packages (from pyasn1-modules>=0.2.1->google-auth<3,>=1.6.3->tensorboard<2.15,>=2.14->tensorflow==2.14.*,>=2.14.0->tensorflow-federated) (0.6.1)\n",
            "Requirement already satisfied: oauthlib>=3.0.0 in /usr/local/lib/python3.11/dist-packages (from requests-oauthlib>=0.7.0->google-auth-oauthlib<1.1,>=0.5->tensorboard<2.15,>=2.14->tensorflow==2.14.*,>=2.14.0->tensorflow-federated) (3.2.2)\n",
            "Requirement already satisfied: librosa in /usr/local/lib/python3.11/dist-packages (0.10.2.post1)\n",
            "Requirement already satisfied: audioread>=2.1.9 in /usr/local/lib/python3.11/dist-packages (from librosa) (3.0.1)\n",
            "Requirement already satisfied: numpy!=1.22.0,!=1.22.1,!=1.22.2,>=1.20.3 in /usr/local/lib/python3.11/dist-packages (from librosa) (1.25.2)\n",
            "Requirement already satisfied: scipy>=1.2.0 in /usr/local/lib/python3.11/dist-packages (from librosa) (1.9.3)\n",
            "Requirement already satisfied: scikit-learn>=0.20.0 in /usr/local/lib/python3.11/dist-packages (from librosa) (1.6.1)\n",
            "Requirement already satisfied: joblib>=0.14 in /usr/local/lib/python3.11/dist-packages (from librosa) (1.4.2)\n",
            "Requirement already satisfied: decorator>=4.3.0 in /usr/local/lib/python3.11/dist-packages (from librosa) (4.4.2)\n",
            "Requirement already satisfied: numba>=0.51.0 in /usr/local/lib/python3.11/dist-packages (from librosa) (0.61.0)\n",
            "Requirement already satisfied: soundfile>=0.12.1 in /usr/local/lib/python3.11/dist-packages (from librosa) (0.13.1)\n",
            "Requirement already satisfied: pooch>=1.1 in /usr/local/lib/python3.11/dist-packages (from librosa) (1.8.2)\n",
            "Requirement already satisfied: soxr>=0.3.2 in /usr/local/lib/python3.11/dist-packages (from librosa) (0.5.0.post1)\n",
            "Requirement already satisfied: typing-extensions>=4.1.1 in /usr/local/lib/python3.11/dist-packages (from librosa) (4.5.0)\n",
            "Requirement already satisfied: lazy-loader>=0.1 in /usr/local/lib/python3.11/dist-packages (from librosa) (0.4)\n",
            "Requirement already satisfied: msgpack>=1.0 in /usr/local/lib/python3.11/dist-packages (from librosa) (1.1.0)\n",
            "Requirement already satisfied: packaging in /usr/local/lib/python3.11/dist-packages (from lazy-loader>=0.1->librosa) (22.0)\n",
            "Requirement already satisfied: llvmlite<0.45,>=0.44.0dev0 in /usr/local/lib/python3.11/dist-packages (from numba>=0.51.0->librosa) (0.44.0)\n",
            "Requirement already satisfied: platformdirs>=2.5.0 in /usr/local/lib/python3.11/dist-packages (from pooch>=1.1->librosa) (4.3.6)\n",
            "Requirement already satisfied: requests>=2.19.0 in /usr/local/lib/python3.11/dist-packages (from pooch>=1.1->librosa) (2.32.3)\n",
            "Requirement already satisfied: threadpoolctl>=3.1.0 in /usr/local/lib/python3.11/dist-packages (from scikit-learn>=0.20.0->librosa) (3.5.0)\n",
            "Requirement already satisfied: cffi>=1.0 in /usr/local/lib/python3.11/dist-packages (from soundfile>=0.12.1->librosa) (1.17.1)\n",
            "Requirement already satisfied: pycparser in /usr/local/lib/python3.11/dist-packages (from cffi>=1.0->soundfile>=0.12.1->librosa) (2.22)\n",
            "Requirement already satisfied: charset-normalizer<4,>=2 in /usr/local/lib/python3.11/dist-packages (from requests>=2.19.0->pooch>=1.1->librosa) (3.4.1)\n",
            "Requirement already satisfied: idna<4,>=2.5 in /usr/local/lib/python3.11/dist-packages (from requests>=2.19.0->pooch>=1.1->librosa) (3.10)\n",
            "Requirement already satisfied: urllib3<3,>=1.21.1 in /usr/local/lib/python3.11/dist-packages (from requests>=2.19.0->pooch>=1.1->librosa) (2.3.0)\n",
            "Requirement already satisfied: certifi>=2017.4.17 in /usr/local/lib/python3.11/dist-packages (from requests>=2.19.0->pooch>=1.1->librosa) (2025.1.31)\n"
          ]
        }
      ]
    },
    {
      "cell_type": "code",
      "source": [
        "!pip install --upgrade tensorflow-federated\n",
        "import tensorflow as tf\n",
        "import tensorflow_federated as tff"
      ],
      "metadata": {
        "id": "KQXX0Vl9edxo",
        "colab": {
          "base_uri": "https://localhost:8080/"
        },
        "outputId": "15512594-3dd2-476b-861e-8b3ac3bcfbdf"
      },
      "execution_count": 2,
      "outputs": [
        {
          "output_type": "stream",
          "name": "stdout",
          "text": [
            "Requirement already satisfied: tensorflow-federated in /usr/local/lib/python3.11/dist-packages (0.87.0)\n",
            "Requirement already satisfied: absl-py==1.*,>=1.0 in /usr/local/lib/python3.11/dist-packages (from tensorflow-federated) (1.4.0)\n",
            "Requirement already satisfied: attrs~=23.1 in /usr/local/lib/python3.11/dist-packages (from tensorflow-federated) (23.1.0)\n",
            "Requirement already satisfied: cachetools~=5.3 in /usr/local/lib/python3.11/dist-packages (from tensorflow-federated) (5.5.1)\n",
            "Requirement already satisfied: dm-tree==0.1.8 in /usr/local/lib/python3.11/dist-packages (from tensorflow-federated) (0.1.8)\n",
            "Requirement already satisfied: dp-accounting==0.4.3 in /usr/local/lib/python3.11/dist-packages (from tensorflow-federated) (0.4.3)\n",
            "Requirement already satisfied: google-vizier==0.1.11 in /usr/local/lib/python3.11/dist-packages (from tensorflow-federated) (0.1.11)\n",
            "Requirement already satisfied: grpcio~=1.46 in /usr/local/lib/python3.11/dist-packages (from tensorflow-federated) (1.70.0)\n",
            "Requirement already satisfied: jaxlib==0.4.14 in /usr/local/lib/python3.11/dist-packages (from tensorflow-federated) (0.4.14)\n",
            "Requirement already satisfied: jax==0.4.14 in /usr/local/lib/python3.11/dist-packages (from tensorflow-federated) (0.4.14)\n",
            "Requirement already satisfied: ml-dtypes==0.2.*,>=0.2.0 in /usr/local/lib/python3.11/dist-packages (from tensorflow-federated) (0.2.0)\n",
            "Requirement already satisfied: numpy~=1.25 in /usr/local/lib/python3.11/dist-packages (from tensorflow-federated) (1.25.2)\n",
            "Requirement already satisfied: portpicker~=1.6 in /usr/local/lib/python3.11/dist-packages (from tensorflow-federated) (1.6.0)\n",
            "Requirement already satisfied: scipy~=1.9.3 in /usr/local/lib/python3.11/dist-packages (from tensorflow-federated) (1.9.3)\n",
            "Requirement already satisfied: tensorflow-model-optimization==0.7.5 in /usr/local/lib/python3.11/dist-packages (from tensorflow-federated) (0.7.5)\n",
            "Requirement already satisfied: tensorflow-privacy==0.9.0 in /usr/local/lib/python3.11/dist-packages (from tensorflow-federated) (0.9.0)\n",
            "Requirement already satisfied: tensorflow==2.14.*,>=2.14.0 in /usr/local/lib/python3.11/dist-packages (from tensorflow-federated) (2.14.1)\n",
            "Requirement already satisfied: tqdm~=4.64 in /usr/local/lib/python3.11/dist-packages (from tensorflow-federated) (4.67.1)\n",
            "Requirement already satisfied: typing-extensions==4.5.*,>=4.5.0 in /usr/local/lib/python3.11/dist-packages (from tensorflow-federated) (4.5.0)\n",
            "Requirement already satisfied: googleapis-common-protos==1.61.0 in /usr/local/lib/python3.11/dist-packages (from tensorflow-federated) (1.61.0)\n",
            "Requirement already satisfied: mpmath~=1.2 in /usr/local/lib/python3.11/dist-packages (from dp-accounting==0.4.3->tensorflow-federated) (1.3.0)\n",
            "Requirement already satisfied: protobuf>=3.6 in /usr/local/lib/python3.11/dist-packages (from google-vizier==0.1.11->tensorflow-federated) (4.25.6)\n",
            "Requirement already satisfied: grpcio-tools>=1.35.0 in /usr/local/lib/python3.11/dist-packages (from google-vizier==0.1.11->tensorflow-federated) (1.62.3)\n",
            "Requirement already satisfied: sqlalchemy<=1.4.20,>=1.4 in /usr/local/lib/python3.11/dist-packages (from google-vizier==0.1.11->tensorflow-federated) (1.4.20)\n",
            "Requirement already satisfied: opt_einsum in /usr/local/lib/python3.11/dist-packages (from jax==0.4.14->tensorflow-federated) (3.4.0)\n",
            "Requirement already satisfied: astunparse>=1.6.0 in /usr/local/lib/python3.11/dist-packages (from tensorflow==2.14.*,>=2.14.0->tensorflow-federated) (1.6.3)\n",
            "Requirement already satisfied: flatbuffers>=23.5.26 in /usr/local/lib/python3.11/dist-packages (from tensorflow==2.14.*,>=2.14.0->tensorflow-federated) (25.1.24)\n",
            "Requirement already satisfied: gast!=0.5.0,!=0.5.1,!=0.5.2,>=0.2.1 in /usr/local/lib/python3.11/dist-packages (from tensorflow==2.14.*,>=2.14.0->tensorflow-federated) (0.6.0)\n",
            "Requirement already satisfied: google-pasta>=0.1.1 in /usr/local/lib/python3.11/dist-packages (from tensorflow==2.14.*,>=2.14.0->tensorflow-federated) (0.2.0)\n",
            "Requirement already satisfied: h5py>=2.9.0 in /usr/local/lib/python3.11/dist-packages (from tensorflow==2.14.*,>=2.14.0->tensorflow-federated) (3.12.1)\n",
            "Requirement already satisfied: libclang>=13.0.0 in /usr/local/lib/python3.11/dist-packages (from tensorflow==2.14.*,>=2.14.0->tensorflow-federated) (18.1.1)\n",
            "Requirement already satisfied: packaging in /usr/local/lib/python3.11/dist-packages (from tensorflow==2.14.*,>=2.14.0->tensorflow-federated) (22.0)\n",
            "Requirement already satisfied: setuptools in /usr/local/lib/python3.11/dist-packages (from tensorflow==2.14.*,>=2.14.0->tensorflow-federated) (75.8.0)\n",
            "Requirement already satisfied: six>=1.12.0 in /usr/local/lib/python3.11/dist-packages (from tensorflow==2.14.*,>=2.14.0->tensorflow-federated) (1.17.0)\n",
            "Requirement already satisfied: termcolor>=1.1.0 in /usr/local/lib/python3.11/dist-packages (from tensorflow==2.14.*,>=2.14.0->tensorflow-federated) (2.5.0)\n",
            "Requirement already satisfied: wrapt<1.15,>=1.11.0 in /usr/local/lib/python3.11/dist-packages (from tensorflow==2.14.*,>=2.14.0->tensorflow-federated) (1.14.1)\n",
            "Requirement already satisfied: tensorflow-io-gcs-filesystem>=0.23.1 in /usr/local/lib/python3.11/dist-packages (from tensorflow==2.14.*,>=2.14.0->tensorflow-federated) (0.37.1)\n",
            "Requirement already satisfied: tensorboard<2.15,>=2.14 in /usr/local/lib/python3.11/dist-packages (from tensorflow==2.14.*,>=2.14.0->tensorflow-federated) (2.14.1)\n",
            "Requirement already satisfied: tensorflow-estimator<2.15,>=2.14.0 in /usr/local/lib/python3.11/dist-packages (from tensorflow==2.14.*,>=2.14.0->tensorflow-federated) (2.14.0)\n",
            "Requirement already satisfied: keras<2.15,>=2.14.0 in /usr/local/lib/python3.11/dist-packages (from tensorflow==2.14.*,>=2.14.0->tensorflow-federated) (2.14.0)\n",
            "Requirement already satisfied: scikit-learn==1.*,>=1.0 in /usr/local/lib/python3.11/dist-packages (from tensorflow-privacy==0.9.0->tensorflow-federated) (1.6.1)\n",
            "Requirement already satisfied: tensorflow-probability~=0.22.0 in /usr/local/lib/python3.11/dist-packages (from tensorflow-privacy==0.9.0->tensorflow-federated) (0.22.1)\n",
            "Requirement already satisfied: joblib>=1.2.0 in /usr/local/lib/python3.11/dist-packages (from scikit-learn==1.*,>=1.0->tensorflow-privacy==0.9.0->tensorflow-federated) (1.4.2)\n",
            "Requirement already satisfied: threadpoolctl>=3.1.0 in /usr/local/lib/python3.11/dist-packages (from scikit-learn==1.*,>=1.0->tensorflow-privacy==0.9.0->tensorflow-federated) (3.5.0)\n",
            "Requirement already satisfied: psutil in /usr/local/lib/python3.11/dist-packages (from portpicker~=1.6->tensorflow-federated) (5.9.5)\n",
            "Requirement already satisfied: wheel<1.0,>=0.23.0 in /usr/local/lib/python3.11/dist-packages (from astunparse>=1.6.0->tensorflow==2.14.*,>=2.14.0->tensorflow-federated) (0.45.1)\n",
            "Requirement already satisfied: greenlet!=0.4.17 in /usr/local/lib/python3.11/dist-packages (from sqlalchemy<=1.4.20,>=1.4->google-vizier==0.1.11->tensorflow-federated) (3.1.1)\n",
            "Requirement already satisfied: google-auth<3,>=1.6.3 in /usr/local/lib/python3.11/dist-packages (from tensorboard<2.15,>=2.14->tensorflow==2.14.*,>=2.14.0->tensorflow-federated) (2.27.0)\n",
            "Requirement already satisfied: google-auth-oauthlib<1.1,>=0.5 in /usr/local/lib/python3.11/dist-packages (from tensorboard<2.15,>=2.14->tensorflow==2.14.*,>=2.14.0->tensorflow-federated) (1.0.0)\n",
            "Requirement already satisfied: markdown>=2.6.8 in /usr/local/lib/python3.11/dist-packages (from tensorboard<2.15,>=2.14->tensorflow==2.14.*,>=2.14.0->tensorflow-federated) (3.7)\n",
            "Requirement already satisfied: requests<3,>=2.21.0 in /usr/local/lib/python3.11/dist-packages (from tensorboard<2.15,>=2.14->tensorflow==2.14.*,>=2.14.0->tensorflow-federated) (2.32.3)\n",
            "Requirement already satisfied: tensorboard-data-server<0.8.0,>=0.7.0 in /usr/local/lib/python3.11/dist-packages (from tensorboard<2.15,>=2.14->tensorflow==2.14.*,>=2.14.0->tensorflow-federated) (0.7.2)\n",
            "Requirement already satisfied: werkzeug>=1.0.1 in /usr/local/lib/python3.11/dist-packages (from tensorboard<2.15,>=2.14->tensorflow==2.14.*,>=2.14.0->tensorflow-federated) (3.1.3)\n",
            "Requirement already satisfied: decorator in /usr/local/lib/python3.11/dist-packages (from tensorflow-probability~=0.22.0->tensorflow-privacy==0.9.0->tensorflow-federated) (4.4.2)\n",
            "Requirement already satisfied: cloudpickle>=1.3 in /usr/local/lib/python3.11/dist-packages (from tensorflow-probability~=0.22.0->tensorflow-privacy==0.9.0->tensorflow-federated) (3.1.1)\n",
            "Requirement already satisfied: pyasn1-modules>=0.2.1 in /usr/local/lib/python3.11/dist-packages (from google-auth<3,>=1.6.3->tensorboard<2.15,>=2.14->tensorflow==2.14.*,>=2.14.0->tensorflow-federated) (0.4.1)\n",
            "Requirement already satisfied: rsa<5,>=3.1.4 in /usr/local/lib/python3.11/dist-packages (from google-auth<3,>=1.6.3->tensorboard<2.15,>=2.14->tensorflow==2.14.*,>=2.14.0->tensorflow-federated) (4.9)\n",
            "Requirement already satisfied: requests-oauthlib>=0.7.0 in /usr/local/lib/python3.11/dist-packages (from google-auth-oauthlib<1.1,>=0.5->tensorboard<2.15,>=2.14->tensorflow==2.14.*,>=2.14.0->tensorflow-federated) (2.0.0)\n",
            "Requirement already satisfied: charset-normalizer<4,>=2 in /usr/local/lib/python3.11/dist-packages (from requests<3,>=2.21.0->tensorboard<2.15,>=2.14->tensorflow==2.14.*,>=2.14.0->tensorflow-federated) (3.4.1)\n",
            "Requirement already satisfied: idna<4,>=2.5 in /usr/local/lib/python3.11/dist-packages (from requests<3,>=2.21.0->tensorboard<2.15,>=2.14->tensorflow==2.14.*,>=2.14.0->tensorflow-federated) (3.10)\n",
            "Requirement already satisfied: urllib3<3,>=1.21.1 in /usr/local/lib/python3.11/dist-packages (from requests<3,>=2.21.0->tensorboard<2.15,>=2.14->tensorflow==2.14.*,>=2.14.0->tensorflow-federated) (2.3.0)\n",
            "Requirement already satisfied: certifi>=2017.4.17 in /usr/local/lib/python3.11/dist-packages (from requests<3,>=2.21.0->tensorboard<2.15,>=2.14->tensorflow==2.14.*,>=2.14.0->tensorflow-federated) (2025.1.31)\n",
            "Requirement already satisfied: MarkupSafe>=2.1.1 in /usr/local/lib/python3.11/dist-packages (from werkzeug>=1.0.1->tensorboard<2.15,>=2.14->tensorflow==2.14.*,>=2.14.0->tensorflow-federated) (3.0.2)\n",
            "Requirement already satisfied: pyasn1<0.7.0,>=0.4.6 in /usr/local/lib/python3.11/dist-packages (from pyasn1-modules>=0.2.1->google-auth<3,>=1.6.3->tensorboard<2.15,>=2.14->tensorflow==2.14.*,>=2.14.0->tensorflow-federated) (0.6.1)\n",
            "Requirement already satisfied: oauthlib>=3.0.0 in /usr/local/lib/python3.11/dist-packages (from requests-oauthlib>=0.7.0->google-auth-oauthlib<1.1,>=0.5->tensorboard<2.15,>=2.14->tensorflow==2.14.*,>=2.14.0->tensorflow-federated) (3.2.2)\n"
          ]
        },
        {
          "output_type": "stream",
          "name": "stderr",
          "text": [
            "ERROR:jax._src.xla_bridge:Jax plugin configuration error: Exception when calling jax_plugins.xla_cuda12.initialize()\n",
            "Traceback (most recent call last):\n",
            "  File \"/usr/local/lib/python3.11/dist-packages/jax/_src/xla_bridge.py\", line 438, in discover_pjrt_plugins\n",
            "    plugin_module.initialize()\n",
            "  File \"/usr/local/lib/python3.11/dist-packages/jax_plugins/xla_cuda12/__init__.py\", line 85, in initialize\n",
            "    options = xla_client.generate_pjrt_gpu_plugin_options()\n",
            "              ^^^^^^^^^^^^^^^^^^^^^^^^^^^^^^^^^^^^^^^^^^^\n",
            "AttributeError: module 'jaxlib.xla_client' has no attribute 'generate_pjrt_gpu_plugin_options'\n"
          ]
        }
      ]
    },
    {
      "cell_type": "code",
      "source": [
        "!pip install --upgrade pip setuptools wheel"
      ],
      "metadata": {
        "colab": {
          "base_uri": "https://localhost:8080/"
        },
        "id": "QXI8aJYq5orF",
        "outputId": "5a55b68a-0038-451c-b226-cb6b2553224b"
      },
      "execution_count": 3,
      "outputs": [
        {
          "output_type": "stream",
          "name": "stdout",
          "text": [
            "Requirement already satisfied: pip in /usr/local/lib/python3.11/dist-packages (25.0)\n",
            "Requirement already satisfied: setuptools in /usr/local/lib/python3.11/dist-packages (75.8.0)\n",
            "Requirement already satisfied: wheel in /usr/local/lib/python3.11/dist-packages (0.45.1)\n"
          ]
        }
      ]
    },
    {
      "cell_type": "code",
      "source": [
        "import tensorflow as tf\n",
        "import tensorflow_federated as tff\n",
        "import numpy as np\n",
        "import librosa\n",
        "import os\n",
        "from tensorflow.keras.layers import Input, Concatenate, Dense, Flatten\n"
      ],
      "metadata": {
        "id": "xZMVB9FVr_Xo"
      },
      "execution_count": 4,
      "outputs": []
    },
    {
      "cell_type": "code",
      "source": [
        "from google.colab import drive\n",
        "drive.mount('/content/drive')"
      ],
      "metadata": {
        "colab": {
          "base_uri": "https://localhost:8080/"
        },
        "id": "QAb4OselsPp7",
        "outputId": "8875841c-0b00-4ad8-da2d-90ca9492d4b4"
      },
      "execution_count": 5,
      "outputs": [
        {
          "output_type": "stream",
          "name": "stdout",
          "text": [
            "Mounted at /content/drive\n"
          ]
        }
      ]
    },
    {
      "cell_type": "code",
      "source": [
        "import zipfile\n",
        "import os\n",
        "\n",
        "# Path to the zip file\n",
        "zip_path = \"/content/drive/MyDrive/audio_dataset.zip\"\n",
        "\n",
        "# Directory to extract the dataset\n",
        "extract_path = \"/content/dataset\"\n",
        "\n",
        "# Create the extraction directory\n",
        "if not os.path.exists(extract_path):\n",
        "    os.makedirs(extract_path)\n",
        "\n",
        "# Unzip the dataset\n",
        "with zipfile.ZipFile(zip_path, 'r') as zip_ref:\n",
        "    zip_ref.extractall(extract_path)\n",
        "\n",
        "print(\"Dataset extracted successfully!\")"
      ],
      "metadata": {
        "id": "oNUNuSC-tECd",
        "colab": {
          "base_uri": "https://localhost:8080/"
        },
        "outputId": "c2960e79-59f5-4b97-caa6-188a5132378d"
      },
      "execution_count": 6,
      "outputs": [
        {
          "output_type": "stream",
          "name": "stdout",
          "text": [
            "Dataset extracted successfully!\n"
          ]
        }
      ]
    },
    {
      "cell_type": "markdown",
      "source": [],
      "metadata": {
        "id": "Hrc8DsZgYoIL"
      }
    },
    {
      "cell_type": "code",
      "source": [
        "dataset_path = os.path.join(extract_path, \"audio_dataset\")"
      ],
      "metadata": {
        "id": "HiyXc8G4zq6Q"
      },
      "execution_count": 7,
      "outputs": []
    },
    {
      "cell_type": "code",
      "source": [
        "import tensorflow_federated as tff\n",
        "print(tff.__version__)\n"
      ],
      "metadata": {
        "colab": {
          "base_uri": "https://localhost:8080/"
        },
        "id": "_YHoyESukr46",
        "outputId": "32bcd4de-53be-4496-cb5b-1a5d40e437bc"
      },
      "execution_count": 8,
      "outputs": [
        {
          "output_type": "stream",
          "name": "stdout",
          "text": [
            "0.87.0\n"
          ]
        }
      ]
    },
    {
      "cell_type": "code",
      "source": [
        "pip install tensorflow-federated==0.18.0\n"
      ],
      "metadata": {
        "colab": {
          "base_uri": "https://localhost:8080/"
        },
        "id": "uZ6Zt5z7m4de",
        "outputId": "81d8dcde-790a-4c1a-e6f3-e16d64abeb39"
      },
      "execution_count": 9,
      "outputs": [
        {
          "output_type": "stream",
          "name": "stdout",
          "text": [
            "Collecting tensorflow-federated==0.18.0\n",
            "  Downloading tensorflow_federated-0.18.0-py2.py3-none-any.whl.metadata (3.5 kB)\n",
            "Collecting absl-py~=0.10 (from tensorflow-federated==0.18.0)\n",
            "  Downloading absl_py-0.15.0-py3-none-any.whl.metadata (2.4 kB)\n",
            "Collecting attrs~=19.3.0 (from tensorflow-federated==0.18.0)\n",
            "  Downloading attrs-19.3.0-py2.py3-none-any.whl.metadata (9.0 kB)\n",
            "Collecting cachetools~=3.1.1 (from tensorflow-federated==0.18.0)\n",
            "  Downloading cachetools-3.1.1-py2.py3-none-any.whl.metadata (4.6 kB)\n",
            "Requirement already satisfied: dm-tree~=0.1.1 in /usr/local/lib/python3.11/dist-packages (from tensorflow-federated==0.18.0) (0.1.8)\n",
            "Collecting grpcio~=1.32.0 (from tensorflow-federated==0.18.0)\n",
            "  Downloading grpcio-1.32.0.tar.gz (20.8 MB)\n",
            "\u001b[2K     \u001b[90m━━━━━━━━━━━━━━━━━━━━━━━━━━━━━━━━━━━━━━━━\u001b[0m \u001b[32m20.8/20.8 MB\u001b[0m \u001b[31m67.4 MB/s\u001b[0m eta \u001b[36m0:00:00\u001b[0m\n",
            "\u001b[?25h  Preparing metadata (setup.py) ... \u001b[?25l\u001b[?25hdone\n",
            "Collecting h5py~=2.10.0 (from tensorflow-federated==0.18.0)\n",
            "  Downloading h5py-2.10.0.tar.gz (301 kB)\n",
            "  Preparing metadata (setup.py) ... \u001b[?25l\u001b[?25hdone\n",
            "Collecting jax~=0.2.8 (from tensorflow-federated==0.18.0)\n",
            "  Downloading jax-0.2.28.tar.gz (887 kB)\n",
            "\u001b[2K     \u001b[90m━━━━━━━━━━━━━━━━━━━━━━━━━━━━━━━━━━━━━━━━\u001b[0m \u001b[32m887.3/887.3 kB\u001b[0m \u001b[31m32.7 MB/s\u001b[0m eta \u001b[36m0:00:00\u001b[0m\n",
            "\u001b[?25h  Preparing metadata (setup.py) ... \u001b[?25l\u001b[?25hdone\n",
            "INFO: pip is looking at multiple versions of tensorflow-federated to determine which version is compatible with other requirements. This could take a while.\n",
            "\u001b[31mERROR: Ignored the following yanked versions: 0.4.32\u001b[0m\u001b[31m\n",
            "\u001b[0m\u001b[31mERROR: Ignored the following versions that require a different python version: 0.34.0 Requires-Python ~=3.9.0; 0.36.0 Requires-Python ~=3.9.0; 0.37.0 Requires-Python >=3.9.0,<3.11; 0.38.0 Requires-Python >=3.9.0,<3.11; 0.39.0 Requires-Python >=3.9.0,<3.11; 0.40.0 Requires-Python >=3.9.0,<3.11; 0.41.0 Requires-Python >=3.9.0,<3.11; 0.42.0 Requires-Python >=3.9.0,<3.11; 0.43.0 Requires-Python >=3.9.0,<3.11; 0.44.0 Requires-Python >=3.9.0,<3.11; 0.45.0 Requires-Python >=3.9.0,<3.11; 0.46.0 Requires-Python >=3.9.0,<3.11; 0.47.0 Requires-Python >=3.9.0,<3.11; 0.48.0 Requires-Python >=3.9.0,<3.11; 0.49.0 Requires-Python >=3.9.0,<3.11; 0.50.0 Requires-Python >=3.9.0,<3.11; 0.51.0 Requires-Python >=3.9.0,<3.11; 0.52.0 Requires-Python >=3.9.0,<3.11; 0.53.0 Requires-Python >=3.9.0,<3.11; 0.54.0 Requires-Python >=3.9.0,<3.11; 0.55.0 Requires-Python >=3.9.0,<3.11; 0.56.0 Requires-Python >=3.9.0,<3.11; 0.57.0 Requires-Python >=3.9.0,<3.11; 0.58.0 Requires-Python >=3.9.0,<3.11; 0.59.0 Requires-Python >=3.9.0,<3.11; 0.60.0 Requires-Python >=3.9.0,<3.11; 0.61.0 Requires-Python >=3.9.0,<3.11; 0.63.0 Requires-Python >=3.9.0,<3.11\u001b[0m\u001b[31m\n",
            "\u001b[0m\u001b[31mERROR: Could not find a version that satisfies the requirement jaxlib~=0.1.55 (from tensorflow-federated) (from versions: 0.4.6, 0.4.7, 0.4.9, 0.4.10, 0.4.11, 0.4.12, 0.4.13, 0.4.14, 0.4.16, 0.4.17, 0.4.18, 0.4.19, 0.4.20, 0.4.21, 0.4.22, 0.4.23, 0.4.24, 0.4.25, 0.4.26, 0.4.27, 0.4.28, 0.4.29, 0.4.30, 0.4.31, 0.4.33, 0.4.34, 0.4.35, 0.4.36, 0.4.38, 0.5.0)\u001b[0m\u001b[31m\n",
            "\u001b[0m\u001b[31mERROR: No matching distribution found for jaxlib~=0.1.55\u001b[0m\u001b[31m\n",
            "\u001b[0m"
          ]
        }
      ]
    },
    {
      "cell_type": "code",
      "source": [
        "print(dir(tff.learning.optimizers))\n"
      ],
      "metadata": {
        "colab": {
          "base_uri": "https://localhost:8080/"
        },
        "id": "iqGrgkn0m92S",
        "outputId": "218679c5-ddf0-48e8-b6aa-bf38044dbe0d"
      },
      "execution_count": 10,
      "outputs": [
        {
          "output_type": "stream",
          "name": "stdout",
          "text": [
            "['LEARNING_RATE_KEY', 'Optimizer', '__builtins__', '__cached__', '__doc__', '__file__', '__loader__', '__name__', '__package__', '__path__', '__spec__', 'adafactor', 'adagrad', 'adam', 'adamw', 'build_adafactor', 'build_adagrad', 'build_adam', 'build_adamw', 'build_rmsprop', 'build_sgdm', 'build_yogi', 'check_weights_gradients_match', 'handle_indexed_slices_gradients', 'keras_optimizer', 'nest_utils', 'optimizer', 'rmsprop', 'schedule_learning_rate', 'scheduling', 'sgdm', 'yogi']\n"
          ]
        }
      ]
    },
    {
      "cell_type": "markdown",
      "source": [
        "**Final trial of the FL code using 1st method!!**"
      ],
      "metadata": {
        "id": "-0Gqrou4M0Bl"
      }
    },
    {
      "cell_type": "code",
      "source": [
        "# import tensorflow as tf\n",
        "# import tensorflow_federated as tff\n",
        "# import librosa\n",
        "# import os\n",
        "\n",
        "# # Feature extraction function\n",
        "# def extract_features(audio, sample_rate=16000):\n",
        "#     audio = audio.numpy()\n",
        "#     features = {\n",
        "#         'mfccs': librosa.feature.mfcc(y=audio, sr=sample_rate, n_mfcc=13).T,\n",
        "#         'chroma': librosa.feature.chroma_stft(y=audio, sr=sample_rate).T,\n",
        "#         'spectral_contrast': librosa.feature.spectral_contrast(y=audio, sr=sample_rate).T,\n",
        "#         'zero_crossing_rate': librosa.feature.zero_crossing_rate(audio).T,\n",
        "#         'rms_energy': librosa.feature.rms(y=audio).T,\n",
        "#         'mel_spectrogram': librosa.feature.melspectrogram(y=audio, sr=sample_rate).T\n",
        "#     }\n",
        "#     return features\n",
        "\n",
        "# # Preprocessing function\n",
        "# def preprocess_audio(file_path, label):\n",
        "#     audio = tf.io.read_file(file_path)\n",
        "#     audio, _ = tf.audio.decode_wav(audio, desired_channels=1)\n",
        "#     audio = tf.squeeze(audio, axis=-1)\n",
        "#     features = tf.py_function(\n",
        "#         extract_features, [audio],\n",
        "#         Tout=[tf.float32, tf.float32, tf.float32, tf.float32, tf.float32, tf.float32]\n",
        "#     )\n",
        "#     return {\n",
        "#         'mfccs': features[0],\n",
        "#         'chroma': features[1],\n",
        "#         'spectral_contrast': features[2],\n",
        "#         'zero_crossing_rate': features[3],\n",
        "#         'rms_energy': features[4],\n",
        "#         'mel_spectrogram': features[5]\n",
        "#     }, label\n",
        "\n",
        "# # Dataset preparation\n",
        "# dataset_path = \"/content/dataset/audio_dataset\"  # Replace with your dataset path\n",
        "# fake_files = tf.data.Dataset.list_files(os.path.join(dataset_path, \"fake/*.wav\"), shuffle=False)\n",
        "# real_files = tf.data.Dataset.list_files(os.path.join(dataset_path, \"real/*.wav\"), shuffle=False)\n",
        "\n",
        "# fake_dataset = fake_files.map(lambda x: (x, 0))  # 0 for fake\n",
        "# real_dataset = real_files.map(lambda x: (x, 1))  # 1 for real\n",
        "\n",
        "# full_dataset = fake_dataset.concatenate(real_dataset).map(preprocess_audio)\n",
        "# full_dataset = full_dataset.shuffle(buffer_size=88284, seed=42)\n",
        "\n",
        "# dataset_size = 88284\n",
        "# chunk_size = dataset_size // 6\n",
        "# chunks = [full_dataset.skip(i * chunk_size).take(chunk_size) for i in range(6)]\n",
        "# train_clients_data = chunks[:5]\n",
        "# test_data = chunks[5]\n",
        "\n",
        "# # Federated learning setup\n",
        "# def create_federated_model():\n",
        "#     keras_model = tf.keras.Sequential([\n",
        "#         tf.keras.layers.InputLayer(input_shape=(13,)),  # Adjust input shape based on your features\n",
        "#         tf.keras.layers.Dense(64, activation='relu'),\n",
        "#         tf.keras.layers.Dense(64, activation='relu'),\n",
        "#         tf.keras.layers.Dense(1, activation='sigmoid')  # Binary classification (fake/real)\n",
        "#     ])\n",
        "#     return tff.learning.from_keras_model(\n",
        "#         keras_model,\n",
        "#         input_spec=(\n",
        "#             tf.TensorSpec(shape=[None, 13], dtype=tf.float32),  # Adjust input spec based on your features\n",
        "#             tf.TensorSpec(shape=[None], dtype=tf.int32)\n",
        "#         ),\n",
        "#         loss=tf.keras.losses.BinaryCrossentropy(),\n",
        "#         metrics=[tf.keras.metrics.BinaryAccuracy()]\n",
        "#     )\n",
        "\n",
        "# # Define client and server optimizers as instances (not functions)\n",
        "# client_optimizer = tf.keras.optimizers.SGD(learning_rate=0.02)\n",
        "# server_optimizer = tf.keras.optimizers.Adam(learning_rate=0.01)\n",
        "\n",
        "# # Build the iterative process\n",
        "# iterative_process = tff.learning.algorithms.build_weighted_fed_avg(\n",
        "#     model_fn=create_federated_model,\n",
        "#     client_optimizer_fn=lambda: client_optimizer,\n",
        "#     server_optimizer_fn=lambda: server_optimizer\n",
        "# )\n",
        "\n",
        "# print(\"Federated learning process created successfully! 🚀\")"
      ],
      "metadata": {
        "colab": {
          "base_uri": "https://localhost:8080/",
          "height": 391
        },
        "id": "x0D7tXqVk7cn",
        "outputId": "ee34ab06-625b-4537-aae6-4fa53d5e9aad"
      },
      "execution_count": 14,
      "outputs": [
        {
          "output_type": "error",
          "ename": "AttributeError",
          "evalue": "module 'tensorflow_federated.python.learning' has no attribute 'from_keras_model'",
          "traceback": [
            "\u001b[0;31m---------------------------------------------------------------------------\u001b[0m",
            "\u001b[0;31mAttributeError\u001b[0m                            Traceback (most recent call last)",
            "\u001b[0;32m<ipython-input-14-58ba6ca24de7>\u001b[0m in \u001b[0;36m<cell line: 0>\u001b[0;34m()\u001b[0m\n\u001b[1;32m     75\u001b[0m \u001b[0;34m\u001b[0m\u001b[0m\n\u001b[1;32m     76\u001b[0m \u001b[0;31m# Build the iterative process\u001b[0m\u001b[0;34m\u001b[0m\u001b[0;34m\u001b[0m\u001b[0m\n\u001b[0;32m---> 77\u001b[0;31m iterative_process = tff.learning.algorithms.build_weighted_fed_avg(\n\u001b[0m\u001b[1;32m     78\u001b[0m     \u001b[0mmodel_fn\u001b[0m\u001b[0;34m=\u001b[0m\u001b[0mcreate_federated_model\u001b[0m\u001b[0;34m,\u001b[0m\u001b[0;34m\u001b[0m\u001b[0;34m\u001b[0m\u001b[0m\n\u001b[1;32m     79\u001b[0m     \u001b[0mclient_optimizer_fn\u001b[0m\u001b[0;34m=\u001b[0m\u001b[0;32mlambda\u001b[0m\u001b[0;34m:\u001b[0m \u001b[0mclient_optimizer\u001b[0m\u001b[0;34m,\u001b[0m\u001b[0;34m\u001b[0m\u001b[0;34m\u001b[0m\u001b[0m\n",
            "\u001b[0;32m/usr/local/lib/python3.11/dist-packages/tensorflow_federated/python/learning/algorithms/fed_avg.py\u001b[0m in \u001b[0;36mbuild_weighted_fed_avg\u001b[0;34m(model_fn, client_optimizer_fn, server_optimizer_fn, client_weighting, model_distributor, model_aggregator, metrics_aggregator, loop_implementation)\u001b[0m\n\u001b[1;32m    194\u001b[0m   \u001b[0;32melse\u001b[0m\u001b[0;34m:\u001b[0m\u001b[0;34m\u001b[0m\u001b[0;34m\u001b[0m\u001b[0m\n\u001b[1;32m    195\u001b[0m \u001b[0;34m\u001b[0m\u001b[0m\n\u001b[0;32m--> 196\u001b[0;31m     \u001b[0;34m@\u001b[0m\u001b[0mtensorflow_computation\u001b[0m\u001b[0;34m.\u001b[0m\u001b[0mtf_computation\u001b[0m\u001b[0;34m(\u001b[0m\u001b[0;34m)\u001b[0m\u001b[0;34m\u001b[0m\u001b[0;34m\u001b[0m\u001b[0m\n\u001b[0m\u001b[1;32m    197\u001b[0m     \u001b[0;32mdef\u001b[0m \u001b[0minitial_model_weights_fn\u001b[0m\u001b[0;34m(\u001b[0m\u001b[0;34m)\u001b[0m\u001b[0;34m:\u001b[0m\u001b[0;34m\u001b[0m\u001b[0;34m\u001b[0m\u001b[0m\n\u001b[1;32m    198\u001b[0m       \u001b[0mmodel\u001b[0m \u001b[0;34m=\u001b[0m \u001b[0mmodel_fn\u001b[0m\u001b[0;34m(\u001b[0m\u001b[0;34m)\u001b[0m  \u001b[0;31m# pytype: disable=not-callable\u001b[0m\u001b[0;34m\u001b[0m\u001b[0;34m\u001b[0m\u001b[0m\n",
            "\u001b[0;32m/usr/local/lib/python3.11/dist-packages/tensorflow_federated/python/core/impl/computation/computation_wrapper.py\u001b[0m in \u001b[0;36m<lambda>\u001b[0;34m(fn)\u001b[0m\n\u001b[1;32m    493\u001b[0m       \u001b[0;31m# \"success\" case below.\u001b[0m\u001b[0;34m\u001b[0m\u001b[0;34m\u001b[0m\u001b[0m\n\u001b[1;32m    494\u001b[0m       \u001b[0mprovided_types\u001b[0m \u001b[0;34m=\u001b[0m \u001b[0;34m[\u001b[0m\u001b[0;34m]\u001b[0m\u001b[0;34m\u001b[0m\u001b[0;34m\u001b[0m\u001b[0m\n\u001b[0;32m--> 495\u001b[0;31m       return lambda fn: _wrap(\n\u001b[0m\u001b[1;32m    496\u001b[0m           \u001b[0mfn\u001b[0m\u001b[0;34m,\u001b[0m \u001b[0mself\u001b[0m\u001b[0;34m.\u001b[0m\u001b[0m_wrapper_fn\u001b[0m\u001b[0;34m,\u001b[0m \u001b[0mprovided_types\u001b[0m\u001b[0;34m,\u001b[0m \u001b[0mself\u001b[0m\u001b[0;34m.\u001b[0m\u001b[0m_infer_type_fn\u001b[0m\u001b[0;34m\u001b[0m\u001b[0;34m\u001b[0m\u001b[0m\n\u001b[1;32m    497\u001b[0m       )\n",
            "\u001b[0;32m/usr/local/lib/python3.11/dist-packages/tensorflow_federated/python/core/impl/computation/computation_wrapper.py\u001b[0m in \u001b[0;36m_wrap\u001b[0;34m(fn, wrapper_fn, parameter_types, infer_type_fn)\u001b[0m\n\u001b[1;32m    234\u001b[0m     \u001b[0;31m# Either we have a concrete parameter type, or this is no-arg function.\u001b[0m\u001b[0;34m\u001b[0m\u001b[0;34m\u001b[0m\u001b[0m\n\u001b[1;32m    235\u001b[0m     \u001b[0mparameter_type\u001b[0m \u001b[0;34m=\u001b[0m \u001b[0m_parameter_type\u001b[0m\u001b[0;34m(\u001b[0m\u001b[0mparameters\u001b[0m\u001b[0;34m,\u001b[0m \u001b[0mparameter_types\u001b[0m\u001b[0;34m)\u001b[0m\u001b[0;34m\u001b[0m\u001b[0;34m\u001b[0m\u001b[0m\n\u001b[0;32m--> 236\u001b[0;31m     \u001b[0mwrapped_fn\u001b[0m \u001b[0;34m=\u001b[0m \u001b[0m_wrap_concrete\u001b[0m\u001b[0;34m(\u001b[0m\u001b[0mfn\u001b[0m\u001b[0;34m,\u001b[0m \u001b[0mwrapper_fn\u001b[0m\u001b[0;34m,\u001b[0m \u001b[0mparameter_type\u001b[0m\u001b[0;34m)\u001b[0m\u001b[0;34m\u001b[0m\u001b[0;34m\u001b[0m\u001b[0m\n\u001b[0m\u001b[1;32m    237\u001b[0m \u001b[0;34m\u001b[0m\u001b[0m\n\u001b[1;32m    238\u001b[0m   \u001b[0;31m# When applying a decorator, the __doc__ attribute with the documentation\u001b[0m\u001b[0;34m\u001b[0m\u001b[0;34m\u001b[0m\u001b[0m\n",
            "\u001b[0;32m/usr/local/lib/python3.11/dist-packages/tensorflow_federated/python/core/impl/computation/computation_wrapper.py\u001b[0m in \u001b[0;36m_wrap_concrete\u001b[0;34m(fn, wrapper_fn, parameter_type)\u001b[0m\n\u001b[1;32m     96\u001b[0m     \u001b[0mname\u001b[0m \u001b[0;34m=\u001b[0m \u001b[0;32mNone\u001b[0m\u001b[0;34m\u001b[0m\u001b[0;34m\u001b[0m\u001b[0m\n\u001b[1;32m     97\u001b[0m \u001b[0;34m\u001b[0m\u001b[0m\n\u001b[0;32m---> 98\u001b[0;31m   \u001b[0mconcrete_fn\u001b[0m \u001b[0;34m=\u001b[0m \u001b[0mwrapper_fn\u001b[0m\u001b[0;34m(\u001b[0m\u001b[0mfn\u001b[0m\u001b[0;34m,\u001b[0m \u001b[0mparameter_type\u001b[0m\u001b[0;34m,\u001b[0m \u001b[0munpack\u001b[0m\u001b[0;34m=\u001b[0m\u001b[0;32mNone\u001b[0m\u001b[0;34m,\u001b[0m \u001b[0mname\u001b[0m\u001b[0;34m=\u001b[0m\u001b[0mname\u001b[0m\u001b[0;34m)\u001b[0m\u001b[0;34m\u001b[0m\u001b[0;34m\u001b[0m\u001b[0m\n\u001b[0m\u001b[1;32m     99\u001b[0m   py_typecheck.check_type(\n\u001b[1;32m    100\u001b[0m       \u001b[0mconcrete_fn\u001b[0m\u001b[0;34m,\u001b[0m\u001b[0;34m\u001b[0m\u001b[0;34m\u001b[0m\u001b[0m\n",
            "\u001b[0;32m/usr/local/lib/python3.11/dist-packages/tensorflow_federated/python/core/environments/tensorflow_frontend/tensorflow_computation.py\u001b[0m in \u001b[0;36m_tf_wrapper_fn\u001b[0;34m(***failed resolving arguments***)\u001b[0m\n\u001b[1;32m     77\u001b[0m   \u001b[0mcontext_stack\u001b[0m \u001b[0;34m=\u001b[0m \u001b[0mcontext_stack_impl\u001b[0m\u001b[0;34m.\u001b[0m\u001b[0mcontext_stack\u001b[0m\u001b[0;34m\u001b[0m\u001b[0;34m\u001b[0m\u001b[0m\n\u001b[1;32m     78\u001b[0m   comp_pb, extra_type_spec = (\n\u001b[0;32m---> 79\u001b[0;31m       tensorflow_serialization.serialize_py_fn_as_tf_computation(\n\u001b[0m\u001b[1;32m     80\u001b[0m           \u001b[0mfn\u001b[0m\u001b[0;34m,\u001b[0m \u001b[0mparameter_type\u001b[0m\u001b[0;34m,\u001b[0m \u001b[0mcontext_stack\u001b[0m\u001b[0;34m\u001b[0m\u001b[0;34m\u001b[0m\u001b[0m\n\u001b[1;32m     81\u001b[0m       )\n",
            "\u001b[0;32m/usr/local/lib/python3.11/dist-packages/tensorflow_federated/python/core/environments/tensorflow_frontend/tensorflow_serialization.py\u001b[0m in \u001b[0;36mserialize_py_fn_as_tf_computation\u001b[0;34m(fn, parameter_type, context_stack)\u001b[0m\n\u001b[1;32m    108\u001b[0m           \u001b[0mresult\u001b[0m \u001b[0;34m=\u001b[0m \u001b[0mfn\u001b[0m\u001b[0;34m(\u001b[0m\u001b[0mparameter_value\u001b[0m\u001b[0;34m)\u001b[0m\u001b[0;34m\u001b[0m\u001b[0;34m\u001b[0m\u001b[0m\n\u001b[1;32m    109\u001b[0m         \u001b[0;32melse\u001b[0m\u001b[0;34m:\u001b[0m\u001b[0;34m\u001b[0m\u001b[0;34m\u001b[0m\u001b[0m\n\u001b[0;32m--> 110\u001b[0;31m           \u001b[0mresult\u001b[0m \u001b[0;34m=\u001b[0m \u001b[0mfn\u001b[0m\u001b[0;34m(\u001b[0m\u001b[0;34m)\u001b[0m\u001b[0;34m\u001b[0m\u001b[0;34m\u001b[0m\u001b[0m\n\u001b[0m\u001b[1;32m    111\u001b[0m         \u001b[0;32mif\u001b[0m \u001b[0mresult\u001b[0m \u001b[0;32mis\u001b[0m \u001b[0;32mNone\u001b[0m\u001b[0;34m:\u001b[0m\u001b[0;34m\u001b[0m\u001b[0;34m\u001b[0m\u001b[0m\n\u001b[1;32m    112\u001b[0m           \u001b[0;32mraise\u001b[0m \u001b[0mcomputation_wrapper\u001b[0m\u001b[0;34m.\u001b[0m\u001b[0mComputationReturnedNoneError\u001b[0m\u001b[0;34m(\u001b[0m\u001b[0mfn\u001b[0m\u001b[0;34m)\u001b[0m\u001b[0;34m\u001b[0m\u001b[0;34m\u001b[0m\u001b[0m\n",
            "\u001b[0;32m/usr/local/lib/python3.11/dist-packages/tensorflow_federated/python/core/impl/computation/function_utils.py\u001b[0m in \u001b[0;36m<lambda>\u001b[0;34m()\u001b[0m\n\u001b[1;32m    444\u001b[0m       \u001b[0;31m# Deliberate wrapping to isolate the caller from `fn`, e.g., to prevent\u001b[0m\u001b[0;34m\u001b[0m\u001b[0;34m\u001b[0m\u001b[0m\n\u001b[1;32m    445\u001b[0m       \u001b[0;31m# the caller from mistakenly specifying args that match fn's defaults.\u001b[0m\u001b[0;34m\u001b[0m\u001b[0;34m\u001b[0m\u001b[0m\n\u001b[0;32m--> 446\u001b[0;31m       \u001b[0;32mreturn\u001b[0m \u001b[0;32mlambda\u001b[0m\u001b[0;34m:\u001b[0m \u001b[0mfn\u001b[0m\u001b[0;34m(\u001b[0m\u001b[0;34m)\u001b[0m  \u001b[0;31m# pylint: disable=unnecessary-lambda\u001b[0m\u001b[0;34m\u001b[0m\u001b[0;34m\u001b[0m\u001b[0m\n\u001b[0m\u001b[1;32m    447\u001b[0m     \u001b[0;32melse\u001b[0m\u001b[0;34m:\u001b[0m\u001b[0;34m\u001b[0m\u001b[0;34m\u001b[0m\u001b[0m\n\u001b[1;32m    448\u001b[0m       raise TypeError(\n",
            "\u001b[0;32m/usr/local/lib/python3.11/dist-packages/tensorflow_federated/python/learning/algorithms/fed_avg.py\u001b[0m in \u001b[0;36minitial_model_weights_fn\u001b[0;34m()\u001b[0m\n\u001b[1;32m    196\u001b[0m     \u001b[0;34m@\u001b[0m\u001b[0mtensorflow_computation\u001b[0m\u001b[0;34m.\u001b[0m\u001b[0mtf_computation\u001b[0m\u001b[0;34m(\u001b[0m\u001b[0;34m)\u001b[0m\u001b[0;34m\u001b[0m\u001b[0;34m\u001b[0m\u001b[0m\n\u001b[1;32m    197\u001b[0m     \u001b[0;32mdef\u001b[0m \u001b[0minitial_model_weights_fn\u001b[0m\u001b[0;34m(\u001b[0m\u001b[0;34m)\u001b[0m\u001b[0;34m:\u001b[0m\u001b[0;34m\u001b[0m\u001b[0;34m\u001b[0m\u001b[0m\n\u001b[0;32m--> 198\u001b[0;31m       \u001b[0mmodel\u001b[0m \u001b[0;34m=\u001b[0m \u001b[0mmodel_fn\u001b[0m\u001b[0;34m(\u001b[0m\u001b[0;34m)\u001b[0m  \u001b[0;31m# pytype: disable=not-callable\u001b[0m\u001b[0;34m\u001b[0m\u001b[0;34m\u001b[0m\u001b[0m\n\u001b[0m\u001b[1;32m    199\u001b[0m       \u001b[0;32mif\u001b[0m \u001b[0;32mnot\u001b[0m \u001b[0misinstance\u001b[0m\u001b[0;34m(\u001b[0m\u001b[0mmodel\u001b[0m\u001b[0;34m,\u001b[0m \u001b[0mvariable\u001b[0m\u001b[0;34m.\u001b[0m\u001b[0mVariableModel\u001b[0m\u001b[0;34m)\u001b[0m\u001b[0;34m:\u001b[0m\u001b[0;34m\u001b[0m\u001b[0;34m\u001b[0m\u001b[0m\n\u001b[1;32m    200\u001b[0m         raise TypeError(\n",
            "\u001b[0;32m<ipython-input-14-58ba6ca24de7>\u001b[0m in \u001b[0;36mcreate_federated_model\u001b[0;34m()\u001b[0m\n\u001b[1;32m     60\u001b[0m         \u001b[0mtf\u001b[0m\u001b[0;34m.\u001b[0m\u001b[0mkeras\u001b[0m\u001b[0;34m.\u001b[0m\u001b[0mlayers\u001b[0m\u001b[0;34m.\u001b[0m\u001b[0mDense\u001b[0m\u001b[0;34m(\u001b[0m\u001b[0;36m1\u001b[0m\u001b[0;34m,\u001b[0m \u001b[0mactivation\u001b[0m\u001b[0;34m=\u001b[0m\u001b[0;34m'sigmoid'\u001b[0m\u001b[0;34m)\u001b[0m  \u001b[0;31m# Binary classification (fake/real)\u001b[0m\u001b[0;34m\u001b[0m\u001b[0;34m\u001b[0m\u001b[0m\n\u001b[1;32m     61\u001b[0m     ])\n\u001b[0;32m---> 62\u001b[0;31m     return tff.learning.from_keras_model(\n\u001b[0m\u001b[1;32m     63\u001b[0m         \u001b[0mkeras_model\u001b[0m\u001b[0;34m,\u001b[0m\u001b[0;34m\u001b[0m\u001b[0;34m\u001b[0m\u001b[0m\n\u001b[1;32m     64\u001b[0m         input_spec=(\n",
            "\u001b[0;31mAttributeError\u001b[0m: module 'tensorflow_federated.python.learning' has no attribute 'from_keras_model'"
          ]
        }
      ]
    },
    {
      "cell_type": "code",
      "source": [
        "import tensorflow as tf\n",
        "import tensorflow_federated as tff\n",
        "import numpy as np\n",
        "\n",
        "# Load dataset (MNIST)\n",
        "(x_train, y_train), _ = tf.keras.datasets.mnist.load_data()\n",
        "x_train, y_train = x_train / 255.0, y_train  # Normalize\n",
        "\n",
        "# Split data into 6 parts for federated clients\n",
        "NUM_CLIENTS = 6\n",
        "client_datasets = []\n",
        "split_size = len(x_train) // NUM_CLIENTS\n",
        "\n",
        "for i in range(NUM_CLIENTS):\n",
        "    start, end = i * split_size, (i + 1) * split_size\n",
        "    client_datasets.append(\n",
        "        tf.data.Dataset.from_tensor_slices((x_train[start:end], y_train[start:end]))\n",
        "        .shuffle(100)\n",
        "        .batch(20)\n",
        "    )\n",
        "\n",
        "# Create a Keras model\n",
        "def create_keras_model():\n",
        "    model = tf.keras.Sequential([\n",
        "        tf.keras.layers.Flatten(input_shape=(28, 28)),\n",
        "        tf.keras.layers.Dense(128, activation='relu'),\n",
        "        tf.keras.layers.Dense(10, activation='softmax')\n",
        "    ])\n",
        "    return model\n",
        "\n",
        "# Convert Keras model to a TFF model\n",
        "class TFFModel(tff.learning.models.Model):\n",
        "    def __init__(self):\n",
        "        self._keras_model = create_keras_model()\n",
        "        self._loss = tf.keras.losses.SparseCategoricalCrossentropy()\n",
        "        self._metrics = [tf.keras.metrics.SparseCategoricalAccuracy()]\n",
        "\n",
        "    @property\n",
        "    def trainable_variables(self):\n",
        "        return self._keras_model.trainable_variables\n",
        "\n",
        "    @property\n",
        "    def non_trainable_variables(self):\n",
        "        return self._keras_model.non_trainable_variables\n",
        "\n",
        "    @property\n",
        "    def local_variables(self):\n",
        "        return [tf.Variable(0.0, name='loss')]\n",
        "\n",
        "    @property\n",
        "    def input_spec(self):\n",
        "        return client_datasets[0].element_spec  # Define input format\n",
        "\n",
        "    @tf.function\n",
        "    def forward_pass(self, batch, training=True):\n",
        "        predictions = self._keras_model(batch[0], training=training)\n",
        "        loss = self._loss(batch[1], predictions)\n",
        "        self.local_variables[0].assign(loss)\n",
        "        return tff.learning.models.BatchOutput(\n",
        "            loss=loss, predictions=predictions, num_examples=tf.shape(batch[1])[0]\n",
        "        )\n",
        "\n",
        "    @tf.function\n",
        "    def report_local_unfinalized_metrics(self):\n",
        "        return [self.local_variables[0]]\n",
        "\n",
        "    def metric_finalizers(self):\n",
        "        return [tf.function(lambda x: x)]\n",
        "\n",
        "    def federated_output_computation(self):\n",
        "        return tff.learning.metrics.sum_then_finalize\n",
        "\n",
        "# Function to create the TFF model\n",
        "def model_fn():\n",
        "    return TFFModel()\n",
        "\n",
        "# Optimizers\n",
        "def client_optimizer_fn():\n",
        "    return tf.keras.optimizers.SGD(learning_rate=0.02)\n",
        "\n",
        "def server_optimizer_fn():\n",
        "    return tf.keras.optimizers.SGD(learning_rate=1.0)\n",
        "\n",
        "# Build Federated Averaging Process\n",
        "iterative_process = tff.learning.algorithms.build_weighted_fed_avg(\n",
        "    model_fn=model_fn,\n",
        "    client_optimizer_fn=client_optimizer_fn,\n",
        "    server_optimizer_fn=server_optimizer_fn\n",
        ")\n",
        "\n",
        "# Initialize model\n",
        "state = iterative_process.initialize()\n",
        "\n",
        "# Run Federated Training for 10 rounds\n",
        "for round_num in range(10):\n",
        "    state, metrics = iterative_process.next(state, client_datasets)\n",
        "    print(f'Round {round_num + 1}, Metrics: {metrics}')\n"
      ],
      "metadata": {
        "colab": {
          "base_uri": "https://localhost:8080/",
          "height": 228
        },
        "id": "sH2-AQsnmAtx",
        "outputId": "34154bf4-2529-4e68-aaaa-5527b67916cf"
      },
      "execution_count": 16,
      "outputs": [
        {
          "output_type": "error",
          "ename": "AttributeError",
          "evalue": "module 'tensorflow_federated.python.learning.models' has no attribute 'Model'",
          "traceback": [
            "\u001b[0;31m---------------------------------------------------------------------------\u001b[0m",
            "\u001b[0;31mAttributeError\u001b[0m                            Traceback (most recent call last)",
            "\u001b[0;32m<ipython-input-16-03621c8d536d>\u001b[0m in \u001b[0;36m<cell line: 0>\u001b[0;34m()\u001b[0m\n\u001b[1;32m     30\u001b[0m \u001b[0;34m\u001b[0m\u001b[0m\n\u001b[1;32m     31\u001b[0m \u001b[0;31m# Convert Keras model to a TFF model\u001b[0m\u001b[0;34m\u001b[0m\u001b[0;34m\u001b[0m\u001b[0m\n\u001b[0;32m---> 32\u001b[0;31m \u001b[0;32mclass\u001b[0m \u001b[0mTFFModel\u001b[0m\u001b[0;34m(\u001b[0m\u001b[0mtff\u001b[0m\u001b[0;34m.\u001b[0m\u001b[0mlearning\u001b[0m\u001b[0;34m.\u001b[0m\u001b[0mmodels\u001b[0m\u001b[0;34m.\u001b[0m\u001b[0mModel\u001b[0m\u001b[0;34m)\u001b[0m\u001b[0;34m:\u001b[0m\u001b[0;34m\u001b[0m\u001b[0;34m\u001b[0m\u001b[0m\n\u001b[0m\u001b[1;32m     33\u001b[0m     \u001b[0;32mdef\u001b[0m \u001b[0m__init__\u001b[0m\u001b[0;34m(\u001b[0m\u001b[0mself\u001b[0m\u001b[0;34m)\u001b[0m\u001b[0;34m:\u001b[0m\u001b[0;34m\u001b[0m\u001b[0;34m\u001b[0m\u001b[0m\n\u001b[1;32m     34\u001b[0m         \u001b[0mself\u001b[0m\u001b[0;34m.\u001b[0m\u001b[0m_keras_model\u001b[0m \u001b[0;34m=\u001b[0m \u001b[0mcreate_keras_model\u001b[0m\u001b[0;34m(\u001b[0m\u001b[0;34m)\u001b[0m\u001b[0;34m\u001b[0m\u001b[0;34m\u001b[0m\u001b[0m\n",
            "\u001b[0;31mAttributeError\u001b[0m: module 'tensorflow_federated.python.learning.models' has no attribute 'Model'"
          ]
        }
      ]
    },
    {
      "cell_type": "code",
      "source": [
        "# def extract_features(audio, sample_rate=16000):\n",
        "#     audio = audio.numpy()\n",
        "#     features = {\n",
        "#         'mfccs': librosa.feature.mfcc(y=audio, sr=sample_rate, n_mfcc=13).T,\n",
        "#         'chroma': librosa.feature.chroma_stft(y=audio, sr=sample_rate).T,\n",
        "#         'spectral_contrast': librosa.feature.spectral_contrast(y=audio, sr=sample_rate).T,\n",
        "#         'zero_crossing_rate': librosa.feature.zero_crossing_rate(audio).T,\n",
        "#         'rms_energy': librosa.feature.rms(y=audio).T,\n",
        "#         'mel_spectrogram': librosa.feature.melspectrogram(y=audio, sr=sample_rate).T\n",
        "#     }\n",
        "#     return features"
      ],
      "metadata": {
        "id": "MtNU7yQL5Opm"
      },
      "execution_count": 8,
      "outputs": []
    },
    {
      "cell_type": "code",
      "source": [
        "# def preprocess_audio(file_path, label):\n",
        "#     audio = tf.io.read_file(file_path)\n",
        "#     audio, _ = tf.audio.decode_wav(audio, desired_channels=1)\n",
        "#     audio = tf.squeeze(audio, axis=-1)\n",
        "#     features = tf.py_function(extract_features, [audio],\n",
        "#                               Tout=[tf.float32, tf.float32, tf.float32, tf.float32, tf.float32, tf.float32])\n",
        "#     return { 'mfccs': features[0], 'chroma': features[1], 'spectral_contrast': features[2],\n",
        "#              'zero_crossing_rate': features[3], 'rms_energy': features[4], 'mel_spectrogram': features[5] }, label\n"
      ],
      "metadata": {
        "id": "7z2mnQ3C5QNr"
      },
      "execution_count": 9,
      "outputs": []
    },
    {
      "cell_type": "code",
      "source": [
        "# # Your code to prepare the dataset\n",
        "# fake_files = tf.data.Dataset.list_files(os.path.join(dataset_path, \"fake/*.wav\"), shuffle=False)\n",
        "# real_files = tf.data.Dataset.list_files(os.path.join(dataset_path, \"real/*.wav\"), shuffle=False)\n",
        "\n",
        "# fake_dataset = fake_files.map(lambda x: (x, 0))  # 0 for fake\n",
        "# real_dataset = real_files.map(lambda x: (x, 1))  # 1 for real\n",
        "\n",
        "# full_dataset = fake_dataset.concatenate(real_dataset).map(preprocess_audio)\n",
        "# full_dataset = full_dataset.shuffle(buffer_size=88284, seed=42)\n",
        "\n",
        "# dataset_size = 88284\n",
        "# chunk_size = dataset_size // 6\n",
        "# chunks = [full_dataset.skip(i * chunk_size).take(chunk_size) for i in range(6)]\n",
        "# train_clients_data = chunks[:5]\n",
        "# test_data = chunks[5]\n",
        "\n",
        "# # My code to set up federated learning\n",
        "# def create_federated_model():\n",
        "#     keras_model = tf.keras.Sequential([\n",
        "#         tf.keras.layers.Dense(10, input_shape=(784,), activation='relu'),\n",
        "#         tf.keras.layers.Dense(10, activation='softmax')\n",
        "#     ])\n",
        "#     return tff.learning.from_keras_model(\n",
        "#         keras_model,\n",
        "#         input_spec=(tf.TensorSpec(shape=[None, 784], dtype=tf.float32),\n",
        "#                     tf.TensorSpec(shape=[None, 10], dtype=tf.int32)),\n",
        "#         loss=tf.keras.losses.SparseCategoricalCrossentropy(),\n",
        "#         metrics=[tf.keras.metrics.SparseCategoricalAccuracy()]\n",
        "#     )\n",
        "\n",
        "# def client_optimizer_fn():\n",
        "#     return tf.keras.optimizers.SGD(learning_rate=0.02)\n",
        "\n",
        "# def server_optimizer_fn():\n",
        "#     return tf.keras.optimizers.Adam(learning_rate=0.01)\n",
        "\n",
        "# iterative_process = tff.learning.algorithms.build_weighted_fed_avg(\n",
        "#     model_fn=create_federated_model,\n",
        "#     client_optimizer_fn=client_optimizer_fn,\n",
        "#     server_optimizer_fn=server_optimizer_fn\n",
        "# )\n",
        "\n",
        "# # Now you can use `train_clients_data` as client datasets in federated learning"
      ],
      "metadata": {
        "colab": {
          "base_uri": "https://localhost:8080/",
          "height": 373
        },
        "id": "x1vamx7QHh1u",
        "outputId": "5661e460-7aa0-4d9a-eb06-70439e50df98"
      },
      "execution_count": 24,
      "outputs": [
        {
          "output_type": "error",
          "ename": "AttributeError",
          "evalue": "module 'tensorflow_federated.python.learning' has no attribute 'from_keras_model'",
          "traceback": [
            "\u001b[0;31m---------------------------------------------------------------------------\u001b[0m",
            "\u001b[0;31mAttributeError\u001b[0m                            Traceback (most recent call last)",
            "\u001b[0;32m<ipython-input-24-35f1167cd1dd>\u001b[0m in \u001b[0;36m<cell line: 0>\u001b[0;34m()\u001b[0m\n\u001b[1;32m     35\u001b[0m     \u001b[0;32mreturn\u001b[0m \u001b[0mtf\u001b[0m\u001b[0;34m.\u001b[0m\u001b[0mkeras\u001b[0m\u001b[0;34m.\u001b[0m\u001b[0moptimizers\u001b[0m\u001b[0;34m.\u001b[0m\u001b[0mAdam\u001b[0m\u001b[0;34m(\u001b[0m\u001b[0mlearning_rate\u001b[0m\u001b[0;34m=\u001b[0m\u001b[0;36m0.01\u001b[0m\u001b[0;34m)\u001b[0m\u001b[0;34m\u001b[0m\u001b[0;34m\u001b[0m\u001b[0m\n\u001b[1;32m     36\u001b[0m \u001b[0;34m\u001b[0m\u001b[0m\n\u001b[0;32m---> 37\u001b[0;31m iterative_process = tff.learning.algorithms.build_weighted_fed_avg(\n\u001b[0m\u001b[1;32m     38\u001b[0m     \u001b[0mmodel_fn\u001b[0m\u001b[0;34m=\u001b[0m\u001b[0mcreate_federated_model\u001b[0m\u001b[0;34m,\u001b[0m\u001b[0;34m\u001b[0m\u001b[0;34m\u001b[0m\u001b[0m\n\u001b[1;32m     39\u001b[0m     \u001b[0mclient_optimizer_fn\u001b[0m\u001b[0;34m=\u001b[0m\u001b[0mclient_optimizer_fn\u001b[0m\u001b[0;34m,\u001b[0m\u001b[0;34m\u001b[0m\u001b[0;34m\u001b[0m\u001b[0m\n",
            "\u001b[0;32m/usr/local/lib/python3.11/dist-packages/tensorflow_federated/python/learning/algorithms/fed_avg.py\u001b[0m in \u001b[0;36mbuild_weighted_fed_avg\u001b[0;34m(model_fn, client_optimizer_fn, server_optimizer_fn, client_weighting, model_distributor, model_aggregator, metrics_aggregator, loop_implementation)\u001b[0m\n\u001b[1;32m    194\u001b[0m   \u001b[0;32melse\u001b[0m\u001b[0;34m:\u001b[0m\u001b[0;34m\u001b[0m\u001b[0;34m\u001b[0m\u001b[0m\n\u001b[1;32m    195\u001b[0m \u001b[0;34m\u001b[0m\u001b[0m\n\u001b[0;32m--> 196\u001b[0;31m     \u001b[0;34m@\u001b[0m\u001b[0mtensorflow_computation\u001b[0m\u001b[0;34m.\u001b[0m\u001b[0mtf_computation\u001b[0m\u001b[0;34m(\u001b[0m\u001b[0;34m)\u001b[0m\u001b[0;34m\u001b[0m\u001b[0;34m\u001b[0m\u001b[0m\n\u001b[0m\u001b[1;32m    197\u001b[0m     \u001b[0;32mdef\u001b[0m \u001b[0minitial_model_weights_fn\u001b[0m\u001b[0;34m(\u001b[0m\u001b[0;34m)\u001b[0m\u001b[0;34m:\u001b[0m\u001b[0;34m\u001b[0m\u001b[0;34m\u001b[0m\u001b[0m\n\u001b[1;32m    198\u001b[0m       \u001b[0mmodel\u001b[0m \u001b[0;34m=\u001b[0m \u001b[0mmodel_fn\u001b[0m\u001b[0;34m(\u001b[0m\u001b[0;34m)\u001b[0m  \u001b[0;31m# pytype: disable=not-callable\u001b[0m\u001b[0;34m\u001b[0m\u001b[0;34m\u001b[0m\u001b[0m\n",
            "\u001b[0;32m/usr/local/lib/python3.11/dist-packages/tensorflow_federated/python/core/impl/computation/computation_wrapper.py\u001b[0m in \u001b[0;36m<lambda>\u001b[0;34m(fn)\u001b[0m\n\u001b[1;32m    493\u001b[0m       \u001b[0;31m# \"success\" case below.\u001b[0m\u001b[0;34m\u001b[0m\u001b[0;34m\u001b[0m\u001b[0m\n\u001b[1;32m    494\u001b[0m       \u001b[0mprovided_types\u001b[0m \u001b[0;34m=\u001b[0m \u001b[0;34m[\u001b[0m\u001b[0;34m]\u001b[0m\u001b[0;34m\u001b[0m\u001b[0;34m\u001b[0m\u001b[0m\n\u001b[0;32m--> 495\u001b[0;31m       return lambda fn: _wrap(\n\u001b[0m\u001b[1;32m    496\u001b[0m           \u001b[0mfn\u001b[0m\u001b[0;34m,\u001b[0m \u001b[0mself\u001b[0m\u001b[0;34m.\u001b[0m\u001b[0m_wrapper_fn\u001b[0m\u001b[0;34m,\u001b[0m \u001b[0mprovided_types\u001b[0m\u001b[0;34m,\u001b[0m \u001b[0mself\u001b[0m\u001b[0;34m.\u001b[0m\u001b[0m_infer_type_fn\u001b[0m\u001b[0;34m\u001b[0m\u001b[0;34m\u001b[0m\u001b[0m\n\u001b[1;32m    497\u001b[0m       )\n",
            "\u001b[0;32m/usr/local/lib/python3.11/dist-packages/tensorflow_federated/python/core/impl/computation/computation_wrapper.py\u001b[0m in \u001b[0;36m_wrap\u001b[0;34m(fn, wrapper_fn, parameter_types, infer_type_fn)\u001b[0m\n\u001b[1;32m    234\u001b[0m     \u001b[0;31m# Either we have a concrete parameter type, or this is no-arg function.\u001b[0m\u001b[0;34m\u001b[0m\u001b[0;34m\u001b[0m\u001b[0m\n\u001b[1;32m    235\u001b[0m     \u001b[0mparameter_type\u001b[0m \u001b[0;34m=\u001b[0m \u001b[0m_parameter_type\u001b[0m\u001b[0;34m(\u001b[0m\u001b[0mparameters\u001b[0m\u001b[0;34m,\u001b[0m \u001b[0mparameter_types\u001b[0m\u001b[0;34m)\u001b[0m\u001b[0;34m\u001b[0m\u001b[0;34m\u001b[0m\u001b[0m\n\u001b[0;32m--> 236\u001b[0;31m     \u001b[0mwrapped_fn\u001b[0m \u001b[0;34m=\u001b[0m \u001b[0m_wrap_concrete\u001b[0m\u001b[0;34m(\u001b[0m\u001b[0mfn\u001b[0m\u001b[0;34m,\u001b[0m \u001b[0mwrapper_fn\u001b[0m\u001b[0;34m,\u001b[0m \u001b[0mparameter_type\u001b[0m\u001b[0;34m)\u001b[0m\u001b[0;34m\u001b[0m\u001b[0;34m\u001b[0m\u001b[0m\n\u001b[0m\u001b[1;32m    237\u001b[0m \u001b[0;34m\u001b[0m\u001b[0m\n\u001b[1;32m    238\u001b[0m   \u001b[0;31m# When applying a decorator, the __doc__ attribute with the documentation\u001b[0m\u001b[0;34m\u001b[0m\u001b[0;34m\u001b[0m\u001b[0m\n",
            "\u001b[0;32m/usr/local/lib/python3.11/dist-packages/tensorflow_federated/python/core/impl/computation/computation_wrapper.py\u001b[0m in \u001b[0;36m_wrap_concrete\u001b[0;34m(fn, wrapper_fn, parameter_type)\u001b[0m\n\u001b[1;32m     96\u001b[0m     \u001b[0mname\u001b[0m \u001b[0;34m=\u001b[0m \u001b[0;32mNone\u001b[0m\u001b[0;34m\u001b[0m\u001b[0;34m\u001b[0m\u001b[0m\n\u001b[1;32m     97\u001b[0m \u001b[0;34m\u001b[0m\u001b[0m\n\u001b[0;32m---> 98\u001b[0;31m   \u001b[0mconcrete_fn\u001b[0m \u001b[0;34m=\u001b[0m \u001b[0mwrapper_fn\u001b[0m\u001b[0;34m(\u001b[0m\u001b[0mfn\u001b[0m\u001b[0;34m,\u001b[0m \u001b[0mparameter_type\u001b[0m\u001b[0;34m,\u001b[0m \u001b[0munpack\u001b[0m\u001b[0;34m=\u001b[0m\u001b[0;32mNone\u001b[0m\u001b[0;34m,\u001b[0m \u001b[0mname\u001b[0m\u001b[0;34m=\u001b[0m\u001b[0mname\u001b[0m\u001b[0;34m)\u001b[0m\u001b[0;34m\u001b[0m\u001b[0;34m\u001b[0m\u001b[0m\n\u001b[0m\u001b[1;32m     99\u001b[0m   py_typecheck.check_type(\n\u001b[1;32m    100\u001b[0m       \u001b[0mconcrete_fn\u001b[0m\u001b[0;34m,\u001b[0m\u001b[0;34m\u001b[0m\u001b[0;34m\u001b[0m\u001b[0m\n",
            "\u001b[0;32m/usr/local/lib/python3.11/dist-packages/tensorflow_federated/python/core/environments/tensorflow_frontend/tensorflow_computation.py\u001b[0m in \u001b[0;36m_tf_wrapper_fn\u001b[0;34m(***failed resolving arguments***)\u001b[0m\n\u001b[1;32m     77\u001b[0m   \u001b[0mcontext_stack\u001b[0m \u001b[0;34m=\u001b[0m \u001b[0mcontext_stack_impl\u001b[0m\u001b[0;34m.\u001b[0m\u001b[0mcontext_stack\u001b[0m\u001b[0;34m\u001b[0m\u001b[0;34m\u001b[0m\u001b[0m\n\u001b[1;32m     78\u001b[0m   comp_pb, extra_type_spec = (\n\u001b[0;32m---> 79\u001b[0;31m       tensorflow_serialization.serialize_py_fn_as_tf_computation(\n\u001b[0m\u001b[1;32m     80\u001b[0m           \u001b[0mfn\u001b[0m\u001b[0;34m,\u001b[0m \u001b[0mparameter_type\u001b[0m\u001b[0;34m,\u001b[0m \u001b[0mcontext_stack\u001b[0m\u001b[0;34m\u001b[0m\u001b[0;34m\u001b[0m\u001b[0m\n\u001b[1;32m     81\u001b[0m       )\n",
            "\u001b[0;32m/usr/local/lib/python3.11/dist-packages/tensorflow_federated/python/core/environments/tensorflow_frontend/tensorflow_serialization.py\u001b[0m in \u001b[0;36mserialize_py_fn_as_tf_computation\u001b[0;34m(fn, parameter_type, context_stack)\u001b[0m\n\u001b[1;32m    108\u001b[0m           \u001b[0mresult\u001b[0m \u001b[0;34m=\u001b[0m \u001b[0mfn\u001b[0m\u001b[0;34m(\u001b[0m\u001b[0mparameter_value\u001b[0m\u001b[0;34m)\u001b[0m\u001b[0;34m\u001b[0m\u001b[0;34m\u001b[0m\u001b[0m\n\u001b[1;32m    109\u001b[0m         \u001b[0;32melse\u001b[0m\u001b[0;34m:\u001b[0m\u001b[0;34m\u001b[0m\u001b[0;34m\u001b[0m\u001b[0m\n\u001b[0;32m--> 110\u001b[0;31m           \u001b[0mresult\u001b[0m \u001b[0;34m=\u001b[0m \u001b[0mfn\u001b[0m\u001b[0;34m(\u001b[0m\u001b[0;34m)\u001b[0m\u001b[0;34m\u001b[0m\u001b[0;34m\u001b[0m\u001b[0m\n\u001b[0m\u001b[1;32m    111\u001b[0m         \u001b[0;32mif\u001b[0m \u001b[0mresult\u001b[0m \u001b[0;32mis\u001b[0m \u001b[0;32mNone\u001b[0m\u001b[0;34m:\u001b[0m\u001b[0;34m\u001b[0m\u001b[0;34m\u001b[0m\u001b[0m\n\u001b[1;32m    112\u001b[0m           \u001b[0;32mraise\u001b[0m \u001b[0mcomputation_wrapper\u001b[0m\u001b[0;34m.\u001b[0m\u001b[0mComputationReturnedNoneError\u001b[0m\u001b[0;34m(\u001b[0m\u001b[0mfn\u001b[0m\u001b[0;34m)\u001b[0m\u001b[0;34m\u001b[0m\u001b[0;34m\u001b[0m\u001b[0m\n",
            "\u001b[0;32m/usr/local/lib/python3.11/dist-packages/tensorflow_federated/python/core/impl/computation/function_utils.py\u001b[0m in \u001b[0;36m<lambda>\u001b[0;34m()\u001b[0m\n\u001b[1;32m    444\u001b[0m       \u001b[0;31m# Deliberate wrapping to isolate the caller from `fn`, e.g., to prevent\u001b[0m\u001b[0;34m\u001b[0m\u001b[0;34m\u001b[0m\u001b[0m\n\u001b[1;32m    445\u001b[0m       \u001b[0;31m# the caller from mistakenly specifying args that match fn's defaults.\u001b[0m\u001b[0;34m\u001b[0m\u001b[0;34m\u001b[0m\u001b[0m\n\u001b[0;32m--> 446\u001b[0;31m       \u001b[0;32mreturn\u001b[0m \u001b[0;32mlambda\u001b[0m\u001b[0;34m:\u001b[0m \u001b[0mfn\u001b[0m\u001b[0;34m(\u001b[0m\u001b[0;34m)\u001b[0m  \u001b[0;31m# pylint: disable=unnecessary-lambda\u001b[0m\u001b[0;34m\u001b[0m\u001b[0;34m\u001b[0m\u001b[0m\n\u001b[0m\u001b[1;32m    447\u001b[0m     \u001b[0;32melse\u001b[0m\u001b[0;34m:\u001b[0m\u001b[0;34m\u001b[0m\u001b[0;34m\u001b[0m\u001b[0m\n\u001b[1;32m    448\u001b[0m       raise TypeError(\n",
            "\u001b[0;32m/usr/local/lib/python3.11/dist-packages/tensorflow_federated/python/learning/algorithms/fed_avg.py\u001b[0m in \u001b[0;36minitial_model_weights_fn\u001b[0;34m()\u001b[0m\n\u001b[1;32m    196\u001b[0m     \u001b[0;34m@\u001b[0m\u001b[0mtensorflow_computation\u001b[0m\u001b[0;34m.\u001b[0m\u001b[0mtf_computation\u001b[0m\u001b[0;34m(\u001b[0m\u001b[0;34m)\u001b[0m\u001b[0;34m\u001b[0m\u001b[0;34m\u001b[0m\u001b[0m\n\u001b[1;32m    197\u001b[0m     \u001b[0;32mdef\u001b[0m \u001b[0minitial_model_weights_fn\u001b[0m\u001b[0;34m(\u001b[0m\u001b[0;34m)\u001b[0m\u001b[0;34m:\u001b[0m\u001b[0;34m\u001b[0m\u001b[0;34m\u001b[0m\u001b[0m\n\u001b[0;32m--> 198\u001b[0;31m       \u001b[0mmodel\u001b[0m \u001b[0;34m=\u001b[0m \u001b[0mmodel_fn\u001b[0m\u001b[0;34m(\u001b[0m\u001b[0;34m)\u001b[0m  \u001b[0;31m# pytype: disable=not-callable\u001b[0m\u001b[0;34m\u001b[0m\u001b[0;34m\u001b[0m\u001b[0m\n\u001b[0m\u001b[1;32m    199\u001b[0m       \u001b[0;32mif\u001b[0m \u001b[0;32mnot\u001b[0m \u001b[0misinstance\u001b[0m\u001b[0;34m(\u001b[0m\u001b[0mmodel\u001b[0m\u001b[0;34m,\u001b[0m \u001b[0mvariable\u001b[0m\u001b[0;34m.\u001b[0m\u001b[0mVariableModel\u001b[0m\u001b[0;34m)\u001b[0m\u001b[0;34m:\u001b[0m\u001b[0;34m\u001b[0m\u001b[0;34m\u001b[0m\u001b[0m\n\u001b[1;32m    200\u001b[0m         raise TypeError(\n",
            "\u001b[0;32m<ipython-input-24-35f1167cd1dd>\u001b[0m in \u001b[0;36mcreate_federated_model\u001b[0;34m()\u001b[0m\n\u001b[1;32m     21\u001b[0m         \u001b[0mtf\u001b[0m\u001b[0;34m.\u001b[0m\u001b[0mkeras\u001b[0m\u001b[0;34m.\u001b[0m\u001b[0mlayers\u001b[0m\u001b[0;34m.\u001b[0m\u001b[0mDense\u001b[0m\u001b[0;34m(\u001b[0m\u001b[0;36m10\u001b[0m\u001b[0;34m,\u001b[0m \u001b[0mactivation\u001b[0m\u001b[0;34m=\u001b[0m\u001b[0;34m'softmax'\u001b[0m\u001b[0;34m)\u001b[0m\u001b[0;34m\u001b[0m\u001b[0;34m\u001b[0m\u001b[0m\n\u001b[1;32m     22\u001b[0m     ])\n\u001b[0;32m---> 23\u001b[0;31m     return tff.learning.from_keras_model(\n\u001b[0m\u001b[1;32m     24\u001b[0m         \u001b[0mkeras_model\u001b[0m\u001b[0;34m,\u001b[0m\u001b[0;34m\u001b[0m\u001b[0;34m\u001b[0m\u001b[0m\n\u001b[1;32m     25\u001b[0m         input_spec=(tf.TensorSpec(shape=[None, 784], dtype=tf.float32), \n",
            "\u001b[0;31mAttributeError\u001b[0m: module 'tensorflow_federated.python.learning' has no attribute 'from_keras_model'"
          ]
        }
      ]
    },
    {
      "cell_type": "code",
      "source": [
        "# fake_files = tf.data.Dataset.list_files(os.path.join(dataset_path, \"fake/*.wav\"), shuffle=False)\n",
        "# real_files = tf.data.Dataset.list_files(os.path.join(dataset_path, \"real/*.wav\"), shuffle=False)\n"
      ],
      "metadata": {
        "id": "ELDLUROU5QDD"
      },
      "execution_count": 10,
      "outputs": []
    },
    {
      "cell_type": "code",
      "source": [
        "# fake_dataset = fake_files.map(lambda x: (x, 0))  # 0 for fake\n",
        "# real_dataset = real_files.map(lambda x: (x, 1))  # 1 for real\n",
        ""
      ],
      "metadata": {
        "id": "YVfz1KQa5P6c"
      },
      "execution_count": 11,
      "outputs": []
    },
    {
      "cell_type": "code",
      "source": [
        "# full_dataset = fake_dataset.concatenate(real_dataset).map(preprocess_audio)\n",
        "# full_dataset = full_dataset.shuffle(buffer_size=88284, seed=42)\n",
        ""
      ],
      "metadata": {
        "id": "wM-uBTOI5Pw0"
      },
      "execution_count": 12,
      "outputs": []
    },
    {
      "cell_type": "code",
      "source": [
        "# dataset_size = 88284\n",
        "# chunk_size = dataset_size // 6\n",
        "# chunks = [full_dataset.skip(i * chunk_size).take(chunk_size) for i in range(6)]\n",
        "# train_clients_data = chunks[:5]\n",
        "# test_data = chunks[5]"
      ],
      "metadata": {
        "id": "KUVm4ajc5Wz9"
      },
      "execution_count": 13,
      "outputs": []
    },
    {
      "cell_type": "code",
      "source": [
        "# train_clients_data = chunks[:5]\n",
        "# test_data = chunks[5]\n",
        "\n",
        ""
      ],
      "metadata": {
        "id": "H32Feoat5WoF"
      },
      "execution_count": 14,
      "outputs": []
    },
    {
      "cell_type": "code",
      "source": [
        "# import tensorflow as tf\n",
        "# import tensorflow_federated as tff\n",
        "\n",
        "# # Example function to create a federated model\n",
        "# def create_federated_model():\n",
        "#     # Define a simple Keras model\n",
        "#     keras_model = tf.keras.Sequential([\n",
        "#         tf.keras.layers.Dense(10, input_shape=(784,), activation='relu'),\n",
        "#         tf.keras.layers.Dense(10, activation='softmax')\n",
        "#     ])\n",
        "\n",
        "#     # Convert the Keras model to a TFF model\n",
        "#     return tff.learning.from_keras_model(\n",
        "#         keras_model,\n",
        "#         input_spec=(tf.TensorSpec(shape=[None, 784], dtype=tf.float32),\n",
        "#                     tf.TensorSpec(shape=[None, 10], dtype=tf.int32)),\n",
        "#         loss=tf.keras.losses.SparseCategoricalCrossentropy(),\n",
        "#         metrics=[tf.keras.metrics.SparseCategoricalAccuracy()]\n",
        "#     )\n",
        "\n",
        "# # Define the client optimizer function\n",
        "# def client_optimizer_fn():\n",
        "#     return tf.keras.optimizers.SGD(learning_rate=0.02)\n",
        "\n",
        "# # Define the server optimizer function\n",
        "# def server_optimizer_fn():\n",
        "#     return tf.keras.optimizers.Adam(learning_rate=0.01)\n",
        "\n",
        "# # Build the iterative process for Federated Averaging\n",
        "# iterative_process = tff.learning.algorithms.build_weighted_fed_avg(\n",
        "#     model_fn=create_federated_model,\n",
        "#     client_optimizer_fn=client_optimizer_fn,\n",
        "#     server_optimizer_fn=server_optimizer_fn\n",
        "# )\n",
        "\n",
        "# # Now you can use `iterative_process` to run federated learning"
      ],
      "metadata": {
        "colab": {
          "base_uri": "https://localhost:8080/",
          "height": 373
        },
        "id": "YCtVEH-xGvFe",
        "outputId": "28f530ee-ca40-49ed-978c-5783779dc08f"
      },
      "execution_count": 23,
      "outputs": [
        {
          "output_type": "error",
          "ename": "AttributeError",
          "evalue": "module 'tensorflow_federated.python.learning' has no attribute 'from_keras_model'",
          "traceback": [
            "\u001b[0;31m---------------------------------------------------------------------------\u001b[0m",
            "\u001b[0;31mAttributeError\u001b[0m                            Traceback (most recent call last)",
            "\u001b[0;32m<ipython-input-23-b973541ff63e>\u001b[0m in \u001b[0;36m<cell line: 0>\u001b[0;34m()\u001b[0m\n\u001b[1;32m     28\u001b[0m \u001b[0;34m\u001b[0m\u001b[0m\n\u001b[1;32m     29\u001b[0m \u001b[0;31m# Build the iterative process for Federated Averaging\u001b[0m\u001b[0;34m\u001b[0m\u001b[0;34m\u001b[0m\u001b[0m\n\u001b[0;32m---> 30\u001b[0;31m iterative_process = tff.learning.algorithms.build_weighted_fed_avg(\n\u001b[0m\u001b[1;32m     31\u001b[0m     \u001b[0mmodel_fn\u001b[0m\u001b[0;34m=\u001b[0m\u001b[0mcreate_federated_model\u001b[0m\u001b[0;34m,\u001b[0m\u001b[0;34m\u001b[0m\u001b[0;34m\u001b[0m\u001b[0m\n\u001b[1;32m     32\u001b[0m     \u001b[0mclient_optimizer_fn\u001b[0m\u001b[0;34m=\u001b[0m\u001b[0mclient_optimizer_fn\u001b[0m\u001b[0;34m,\u001b[0m\u001b[0;34m\u001b[0m\u001b[0;34m\u001b[0m\u001b[0m\n",
            "\u001b[0;32m/usr/local/lib/python3.11/dist-packages/tensorflow_federated/python/learning/algorithms/fed_avg.py\u001b[0m in \u001b[0;36mbuild_weighted_fed_avg\u001b[0;34m(model_fn, client_optimizer_fn, server_optimizer_fn, client_weighting, model_distributor, model_aggregator, metrics_aggregator, loop_implementation)\u001b[0m\n\u001b[1;32m    194\u001b[0m   \u001b[0;32melse\u001b[0m\u001b[0;34m:\u001b[0m\u001b[0;34m\u001b[0m\u001b[0;34m\u001b[0m\u001b[0m\n\u001b[1;32m    195\u001b[0m \u001b[0;34m\u001b[0m\u001b[0m\n\u001b[0;32m--> 196\u001b[0;31m     \u001b[0;34m@\u001b[0m\u001b[0mtensorflow_computation\u001b[0m\u001b[0;34m.\u001b[0m\u001b[0mtf_computation\u001b[0m\u001b[0;34m(\u001b[0m\u001b[0;34m)\u001b[0m\u001b[0;34m\u001b[0m\u001b[0;34m\u001b[0m\u001b[0m\n\u001b[0m\u001b[1;32m    197\u001b[0m     \u001b[0;32mdef\u001b[0m \u001b[0minitial_model_weights_fn\u001b[0m\u001b[0;34m(\u001b[0m\u001b[0;34m)\u001b[0m\u001b[0;34m:\u001b[0m\u001b[0;34m\u001b[0m\u001b[0;34m\u001b[0m\u001b[0m\n\u001b[1;32m    198\u001b[0m       \u001b[0mmodel\u001b[0m \u001b[0;34m=\u001b[0m \u001b[0mmodel_fn\u001b[0m\u001b[0;34m(\u001b[0m\u001b[0;34m)\u001b[0m  \u001b[0;31m# pytype: disable=not-callable\u001b[0m\u001b[0;34m\u001b[0m\u001b[0;34m\u001b[0m\u001b[0m\n",
            "\u001b[0;32m/usr/local/lib/python3.11/dist-packages/tensorflow_federated/python/core/impl/computation/computation_wrapper.py\u001b[0m in \u001b[0;36m<lambda>\u001b[0;34m(fn)\u001b[0m\n\u001b[1;32m    493\u001b[0m       \u001b[0;31m# \"success\" case below.\u001b[0m\u001b[0;34m\u001b[0m\u001b[0;34m\u001b[0m\u001b[0m\n\u001b[1;32m    494\u001b[0m       \u001b[0mprovided_types\u001b[0m \u001b[0;34m=\u001b[0m \u001b[0;34m[\u001b[0m\u001b[0;34m]\u001b[0m\u001b[0;34m\u001b[0m\u001b[0;34m\u001b[0m\u001b[0m\n\u001b[0;32m--> 495\u001b[0;31m       return lambda fn: _wrap(\n\u001b[0m\u001b[1;32m    496\u001b[0m           \u001b[0mfn\u001b[0m\u001b[0;34m,\u001b[0m \u001b[0mself\u001b[0m\u001b[0;34m.\u001b[0m\u001b[0m_wrapper_fn\u001b[0m\u001b[0;34m,\u001b[0m \u001b[0mprovided_types\u001b[0m\u001b[0;34m,\u001b[0m \u001b[0mself\u001b[0m\u001b[0;34m.\u001b[0m\u001b[0m_infer_type_fn\u001b[0m\u001b[0;34m\u001b[0m\u001b[0;34m\u001b[0m\u001b[0m\n\u001b[1;32m    497\u001b[0m       )\n",
            "\u001b[0;32m/usr/local/lib/python3.11/dist-packages/tensorflow_federated/python/core/impl/computation/computation_wrapper.py\u001b[0m in \u001b[0;36m_wrap\u001b[0;34m(fn, wrapper_fn, parameter_types, infer_type_fn)\u001b[0m\n\u001b[1;32m    234\u001b[0m     \u001b[0;31m# Either we have a concrete parameter type, or this is no-arg function.\u001b[0m\u001b[0;34m\u001b[0m\u001b[0;34m\u001b[0m\u001b[0m\n\u001b[1;32m    235\u001b[0m     \u001b[0mparameter_type\u001b[0m \u001b[0;34m=\u001b[0m \u001b[0m_parameter_type\u001b[0m\u001b[0;34m(\u001b[0m\u001b[0mparameters\u001b[0m\u001b[0;34m,\u001b[0m \u001b[0mparameter_types\u001b[0m\u001b[0;34m)\u001b[0m\u001b[0;34m\u001b[0m\u001b[0;34m\u001b[0m\u001b[0m\n\u001b[0;32m--> 236\u001b[0;31m     \u001b[0mwrapped_fn\u001b[0m \u001b[0;34m=\u001b[0m \u001b[0m_wrap_concrete\u001b[0m\u001b[0;34m(\u001b[0m\u001b[0mfn\u001b[0m\u001b[0;34m,\u001b[0m \u001b[0mwrapper_fn\u001b[0m\u001b[0;34m,\u001b[0m \u001b[0mparameter_type\u001b[0m\u001b[0;34m)\u001b[0m\u001b[0;34m\u001b[0m\u001b[0;34m\u001b[0m\u001b[0m\n\u001b[0m\u001b[1;32m    237\u001b[0m \u001b[0;34m\u001b[0m\u001b[0m\n\u001b[1;32m    238\u001b[0m   \u001b[0;31m# When applying a decorator, the __doc__ attribute with the documentation\u001b[0m\u001b[0;34m\u001b[0m\u001b[0;34m\u001b[0m\u001b[0m\n",
            "\u001b[0;32m/usr/local/lib/python3.11/dist-packages/tensorflow_federated/python/core/impl/computation/computation_wrapper.py\u001b[0m in \u001b[0;36m_wrap_concrete\u001b[0;34m(fn, wrapper_fn, parameter_type)\u001b[0m\n\u001b[1;32m     96\u001b[0m     \u001b[0mname\u001b[0m \u001b[0;34m=\u001b[0m \u001b[0;32mNone\u001b[0m\u001b[0;34m\u001b[0m\u001b[0;34m\u001b[0m\u001b[0m\n\u001b[1;32m     97\u001b[0m \u001b[0;34m\u001b[0m\u001b[0m\n\u001b[0;32m---> 98\u001b[0;31m   \u001b[0mconcrete_fn\u001b[0m \u001b[0;34m=\u001b[0m \u001b[0mwrapper_fn\u001b[0m\u001b[0;34m(\u001b[0m\u001b[0mfn\u001b[0m\u001b[0;34m,\u001b[0m \u001b[0mparameter_type\u001b[0m\u001b[0;34m,\u001b[0m \u001b[0munpack\u001b[0m\u001b[0;34m=\u001b[0m\u001b[0;32mNone\u001b[0m\u001b[0;34m,\u001b[0m \u001b[0mname\u001b[0m\u001b[0;34m=\u001b[0m\u001b[0mname\u001b[0m\u001b[0;34m)\u001b[0m\u001b[0;34m\u001b[0m\u001b[0;34m\u001b[0m\u001b[0m\n\u001b[0m\u001b[1;32m     99\u001b[0m   py_typecheck.check_type(\n\u001b[1;32m    100\u001b[0m       \u001b[0mconcrete_fn\u001b[0m\u001b[0;34m,\u001b[0m\u001b[0;34m\u001b[0m\u001b[0;34m\u001b[0m\u001b[0m\n",
            "\u001b[0;32m/usr/local/lib/python3.11/dist-packages/tensorflow_federated/python/core/environments/tensorflow_frontend/tensorflow_computation.py\u001b[0m in \u001b[0;36m_tf_wrapper_fn\u001b[0;34m(***failed resolving arguments***)\u001b[0m\n\u001b[1;32m     77\u001b[0m   \u001b[0mcontext_stack\u001b[0m \u001b[0;34m=\u001b[0m \u001b[0mcontext_stack_impl\u001b[0m\u001b[0;34m.\u001b[0m\u001b[0mcontext_stack\u001b[0m\u001b[0;34m\u001b[0m\u001b[0;34m\u001b[0m\u001b[0m\n\u001b[1;32m     78\u001b[0m   comp_pb, extra_type_spec = (\n\u001b[0;32m---> 79\u001b[0;31m       tensorflow_serialization.serialize_py_fn_as_tf_computation(\n\u001b[0m\u001b[1;32m     80\u001b[0m           \u001b[0mfn\u001b[0m\u001b[0;34m,\u001b[0m \u001b[0mparameter_type\u001b[0m\u001b[0;34m,\u001b[0m \u001b[0mcontext_stack\u001b[0m\u001b[0;34m\u001b[0m\u001b[0;34m\u001b[0m\u001b[0m\n\u001b[1;32m     81\u001b[0m       )\n",
            "\u001b[0;32m/usr/local/lib/python3.11/dist-packages/tensorflow_federated/python/core/environments/tensorflow_frontend/tensorflow_serialization.py\u001b[0m in \u001b[0;36mserialize_py_fn_as_tf_computation\u001b[0;34m(fn, parameter_type, context_stack)\u001b[0m\n\u001b[1;32m    108\u001b[0m           \u001b[0mresult\u001b[0m \u001b[0;34m=\u001b[0m \u001b[0mfn\u001b[0m\u001b[0;34m(\u001b[0m\u001b[0mparameter_value\u001b[0m\u001b[0;34m)\u001b[0m\u001b[0;34m\u001b[0m\u001b[0;34m\u001b[0m\u001b[0m\n\u001b[1;32m    109\u001b[0m         \u001b[0;32melse\u001b[0m\u001b[0;34m:\u001b[0m\u001b[0;34m\u001b[0m\u001b[0;34m\u001b[0m\u001b[0m\n\u001b[0;32m--> 110\u001b[0;31m           \u001b[0mresult\u001b[0m \u001b[0;34m=\u001b[0m \u001b[0mfn\u001b[0m\u001b[0;34m(\u001b[0m\u001b[0;34m)\u001b[0m\u001b[0;34m\u001b[0m\u001b[0;34m\u001b[0m\u001b[0m\n\u001b[0m\u001b[1;32m    111\u001b[0m         \u001b[0;32mif\u001b[0m \u001b[0mresult\u001b[0m \u001b[0;32mis\u001b[0m \u001b[0;32mNone\u001b[0m\u001b[0;34m:\u001b[0m\u001b[0;34m\u001b[0m\u001b[0;34m\u001b[0m\u001b[0m\n\u001b[1;32m    112\u001b[0m           \u001b[0;32mraise\u001b[0m \u001b[0mcomputation_wrapper\u001b[0m\u001b[0;34m.\u001b[0m\u001b[0mComputationReturnedNoneError\u001b[0m\u001b[0;34m(\u001b[0m\u001b[0mfn\u001b[0m\u001b[0;34m)\u001b[0m\u001b[0;34m\u001b[0m\u001b[0;34m\u001b[0m\u001b[0m\n",
            "\u001b[0;32m/usr/local/lib/python3.11/dist-packages/tensorflow_federated/python/core/impl/computation/function_utils.py\u001b[0m in \u001b[0;36m<lambda>\u001b[0;34m()\u001b[0m\n\u001b[1;32m    444\u001b[0m       \u001b[0;31m# Deliberate wrapping to isolate the caller from `fn`, e.g., to prevent\u001b[0m\u001b[0;34m\u001b[0m\u001b[0;34m\u001b[0m\u001b[0m\n\u001b[1;32m    445\u001b[0m       \u001b[0;31m# the caller from mistakenly specifying args that match fn's defaults.\u001b[0m\u001b[0;34m\u001b[0m\u001b[0;34m\u001b[0m\u001b[0m\n\u001b[0;32m--> 446\u001b[0;31m       \u001b[0;32mreturn\u001b[0m \u001b[0;32mlambda\u001b[0m\u001b[0;34m:\u001b[0m \u001b[0mfn\u001b[0m\u001b[0;34m(\u001b[0m\u001b[0;34m)\u001b[0m  \u001b[0;31m# pylint: disable=unnecessary-lambda\u001b[0m\u001b[0;34m\u001b[0m\u001b[0;34m\u001b[0m\u001b[0m\n\u001b[0m\u001b[1;32m    447\u001b[0m     \u001b[0;32melse\u001b[0m\u001b[0;34m:\u001b[0m\u001b[0;34m\u001b[0m\u001b[0;34m\u001b[0m\u001b[0m\n\u001b[1;32m    448\u001b[0m       raise TypeError(\n",
            "\u001b[0;32m/usr/local/lib/python3.11/dist-packages/tensorflow_federated/python/learning/algorithms/fed_avg.py\u001b[0m in \u001b[0;36minitial_model_weights_fn\u001b[0;34m()\u001b[0m\n\u001b[1;32m    196\u001b[0m     \u001b[0;34m@\u001b[0m\u001b[0mtensorflow_computation\u001b[0m\u001b[0;34m.\u001b[0m\u001b[0mtf_computation\u001b[0m\u001b[0;34m(\u001b[0m\u001b[0;34m)\u001b[0m\u001b[0;34m\u001b[0m\u001b[0;34m\u001b[0m\u001b[0m\n\u001b[1;32m    197\u001b[0m     \u001b[0;32mdef\u001b[0m \u001b[0minitial_model_weights_fn\u001b[0m\u001b[0;34m(\u001b[0m\u001b[0;34m)\u001b[0m\u001b[0;34m:\u001b[0m\u001b[0;34m\u001b[0m\u001b[0;34m\u001b[0m\u001b[0m\n\u001b[0;32m--> 198\u001b[0;31m       \u001b[0mmodel\u001b[0m \u001b[0;34m=\u001b[0m \u001b[0mmodel_fn\u001b[0m\u001b[0;34m(\u001b[0m\u001b[0;34m)\u001b[0m  \u001b[0;31m# pytype: disable=not-callable\u001b[0m\u001b[0;34m\u001b[0m\u001b[0;34m\u001b[0m\u001b[0m\n\u001b[0m\u001b[1;32m    199\u001b[0m       \u001b[0;32mif\u001b[0m \u001b[0;32mnot\u001b[0m \u001b[0misinstance\u001b[0m\u001b[0;34m(\u001b[0m\u001b[0mmodel\u001b[0m\u001b[0;34m,\u001b[0m \u001b[0mvariable\u001b[0m\u001b[0;34m.\u001b[0m\u001b[0mVariableModel\u001b[0m\u001b[0;34m)\u001b[0m\u001b[0;34m:\u001b[0m\u001b[0;34m\u001b[0m\u001b[0;34m\u001b[0m\u001b[0m\n\u001b[1;32m    200\u001b[0m         raise TypeError(\n",
            "\u001b[0;32m<ipython-input-23-b973541ff63e>\u001b[0m in \u001b[0;36mcreate_federated_model\u001b[0;34m()\u001b[0m\n\u001b[1;32m     11\u001b[0m \u001b[0;34m\u001b[0m\u001b[0m\n\u001b[1;32m     12\u001b[0m     \u001b[0;31m# Convert the Keras model to a TFF model\u001b[0m\u001b[0;34m\u001b[0m\u001b[0;34m\u001b[0m\u001b[0m\n\u001b[0;32m---> 13\u001b[0;31m     return tff.learning.from_keras_model(\n\u001b[0m\u001b[1;32m     14\u001b[0m         \u001b[0mkeras_model\u001b[0m\u001b[0;34m,\u001b[0m\u001b[0;34m\u001b[0m\u001b[0;34m\u001b[0m\u001b[0m\n\u001b[1;32m     15\u001b[0m         input_spec=(tf.TensorSpec(shape=[None, 784], dtype=tf.float32), \n",
            "\u001b[0;31mAttributeError\u001b[0m: module 'tensorflow_federated.python.learning' has no attribute 'from_keras_model'"
          ]
        }
      ]
    },
    {
      "cell_type": "code",
      "source": [
        "# def create_federated_model():\n",
        "#     mfcc_input = Input(shape=(100, 13), name='mfccs')\n",
        "#     chroma_input = Input(shape=(100, 12), name='chroma')\n",
        "#     spectral_contrast_input = Input(shape=(100, 7), name='spectral_contrast')\n",
        "#     zero_crossing_input = Input(shape=(100, 1), name='zero_crossing_rate')\n",
        "#     rms_input = Input(shape=(100, 1), name='rms_energy')\n",
        "#     mel_input = Input(shape=(100, 128), name='mel_spectrogram')\n",
        "\n",
        "#     flattened_features = [Flatten()(mfcc_input), Flatten()(chroma_input), Flatten()(spectral_contrast_input),\n",
        "#                           Flatten()(zero_crossing_input), Flatten()(rms_input), Flatten()(mel_input)]\n",
        "#     concatenated = Concatenate()(flattened_features)\n",
        "#     x = Dense(128, activation='relu')(concatenated)\n",
        "#     x = Dense(64, activation='relu')(x)\n",
        "#     output = Dense(1, activation='sigmoid')(x)\n",
        "\n",
        "#     from tensorflow.keras.models import Model\n",
        "\n",
        "#     keras_model = Model(inputs=[mfcc_input, chroma_input, spectral_contrast_input,\n",
        "#                                 zero_crossing_input, rms_input, mel_input], outputs=output)\n",
        "\n",
        "#     return tff.learning.models.from_keras_model(\n",
        "#         keras_model,\n",
        "#         input_spec=train_clients_data[0].element_spec,\n",
        "#         loss=tf.keras.losses.BinaryCrossentropy(),\n",
        "#         metrics=[tf.keras.metrics.BinaryAccuracy()]\n",
        "#     )"
      ],
      "metadata": {
        "id": "aaQIDUi25fQs"
      },
      "execution_count": 19,
      "outputs": []
    },
    {
      "cell_type": "code",
      "source": [
        "# def client_optimizer_fn():\n",
        "#     return lambda: tff.learning.optimizers.build_sgdm(learning_rate=0.001)\n",
        "# def server_optimizer_fn():\n",
        "#     return lambda: tff.learning.optimizers.build_sgdm(learning_rate=0.001)"
      ],
      "metadata": {
        "id": "HLaB5LcE5f94"
      },
      "execution_count": 20,
      "outputs": []
    },
    {
      "cell_type": "markdown",
      "source": [
        "<!--  -->"
      ],
      "metadata": {
        "id": "S68_yJEAKIgS"
      }
    },
    {
      "cell_type": "code",
      "source": [
        "# iterative_process = tff.learning.algorithms.build_weighted_fed_avg(\n",
        "#     model_fn=create_federated_model,\n",
        "#     client_optimizer_fn=client_optimizer_fn,\n",
        "#     server_optimizer_fn=server_optimizer_fn\n",
        "# )\n",
        ""
      ],
      "metadata": {
        "colab": {
          "base_uri": "https://localhost:8080/",
          "height": 408
        },
        "id": "US8hi20m5tdl",
        "outputId": "8b96c0b8-fd32-4c35-d0a8-d60940c0fa94"
      },
      "execution_count": 21,
      "outputs": [
        {
          "output_type": "error",
          "ename": "AttributeError",
          "evalue": "'function' object has no attribute 'initialize'",
          "traceback": [
            "\u001b[0;31m---------------------------------------------------------------------------\u001b[0m",
            "\u001b[0;31mAttributeError\u001b[0m                            Traceback (most recent call last)",
            "\u001b[0;32m<ipython-input-21-9345f6595b1a>\u001b[0m in \u001b[0;36m<cell line: 0>\u001b[0;34m()\u001b[0m\n\u001b[0;32m----> 1\u001b[0;31m iterative_process = tff.learning.algorithms.build_weighted_fed_avg(\n\u001b[0m\u001b[1;32m      2\u001b[0m     \u001b[0mmodel_fn\u001b[0m\u001b[0;34m=\u001b[0m\u001b[0mcreate_federated_model\u001b[0m\u001b[0;34m,\u001b[0m\u001b[0;34m\u001b[0m\u001b[0;34m\u001b[0m\u001b[0m\n\u001b[1;32m      3\u001b[0m     \u001b[0mclient_optimizer_fn\u001b[0m\u001b[0;34m=\u001b[0m\u001b[0mclient_optimizer_fn\u001b[0m\u001b[0;34m,\u001b[0m\u001b[0;34m\u001b[0m\u001b[0;34m\u001b[0m\u001b[0m\n\u001b[1;32m      4\u001b[0m     \u001b[0mserver_optimizer_fn\u001b[0m\u001b[0;34m=\u001b[0m\u001b[0mserver_optimizer_fn\u001b[0m\u001b[0;34m\u001b[0m\u001b[0;34m\u001b[0m\u001b[0m\n\u001b[1;32m      5\u001b[0m )\n",
            "\u001b[0;32m/usr/local/lib/python3.11/dist-packages/tensorflow_federated/python/learning/algorithms/fed_avg.py\u001b[0m in \u001b[0;36mbuild_weighted_fed_avg\u001b[0;34m(model_fn, client_optimizer_fn, server_optimizer_fn, client_weighting, model_distributor, model_aggregator, metrics_aggregator, loop_implementation)\u001b[0m\n\u001b[1;32m    248\u001b[0m     )\n\u001b[1;32m    249\u001b[0m   \u001b[0;32melse\u001b[0m\u001b[0;34m:\u001b[0m\u001b[0;34m\u001b[0m\u001b[0;34m\u001b[0m\u001b[0m\n\u001b[0;32m--> 250\u001b[0;31m     client_work = model_delta_client_work.build_model_delta_client_work(\n\u001b[0m\u001b[1;32m    251\u001b[0m         \u001b[0mmodel_fn\u001b[0m\u001b[0;34m=\u001b[0m\u001b[0mmodel_fn\u001b[0m\u001b[0;34m,\u001b[0m\u001b[0;34m\u001b[0m\u001b[0;34m\u001b[0m\u001b[0m\n\u001b[1;32m    252\u001b[0m         \u001b[0moptimizer\u001b[0m\u001b[0;34m=\u001b[0m\u001b[0mclient_optimizer_fn\u001b[0m\u001b[0;34m,\u001b[0m\u001b[0;34m\u001b[0m\u001b[0;34m\u001b[0m\u001b[0m\n",
            "\u001b[0;32m/usr/local/lib/python3.11/dist-packages/tensorflow_federated/python/learning/templates/model_delta_client_work.py\u001b[0m in \u001b[0;36mbuild_model_delta_client_work\u001b[0;34m(model_fn, optimizer, client_weighting, metrics_aggregator, loop_implementation)\u001b[0m\n\u001b[1;32m    209\u001b[0m   \u001b[0;31m# hyperparameters, using a \"whimsy\" spec.\u001b[0m\u001b[0;34m\u001b[0m\u001b[0;34m\u001b[0m\u001b[0m\n\u001b[1;32m    210\u001b[0m   \u001b[0mwhimsy_specs\u001b[0m \u001b[0;34m=\u001b[0m \u001b[0mtf\u001b[0m\u001b[0;34m.\u001b[0m\u001b[0mTensorSpec\u001b[0m\u001b[0;34m(\u001b[0m\u001b[0mshape\u001b[0m\u001b[0;34m=\u001b[0m\u001b[0;34m(\u001b[0m\u001b[0;34m)\u001b[0m\u001b[0;34m,\u001b[0m \u001b[0mdtype\u001b[0m\u001b[0;34m=\u001b[0m\u001b[0mtf\u001b[0m\u001b[0;34m.\u001b[0m\u001b[0mfloat32\u001b[0m\u001b[0;34m)\u001b[0m\u001b[0;34m\u001b[0m\u001b[0;34m\u001b[0m\u001b[0m\n\u001b[0;32m--> 211\u001b[0;31m   \u001b[0mwhimsy_opt_state\u001b[0m \u001b[0;34m=\u001b[0m \u001b[0moptimizer\u001b[0m\u001b[0;34m.\u001b[0m\u001b[0minitialize\u001b[0m\u001b[0;34m(\u001b[0m\u001b[0mwhimsy_specs\u001b[0m\u001b[0;34m)\u001b[0m\u001b[0;34m\u001b[0m\u001b[0;34m\u001b[0m\u001b[0m\n\u001b[0m\u001b[1;32m    212\u001b[0m   \u001b[0minitial_hparams\u001b[0m \u001b[0;34m=\u001b[0m \u001b[0moptimizer\u001b[0m\u001b[0;34m.\u001b[0m\u001b[0mget_hparams\u001b[0m\u001b[0;34m(\u001b[0m\u001b[0mwhimsy_opt_state\u001b[0m\u001b[0;34m)\u001b[0m\u001b[0;34m\u001b[0m\u001b[0;34m\u001b[0m\u001b[0m\n\u001b[1;32m    213\u001b[0m \u001b[0;34m\u001b[0m\u001b[0m\n",
            "\u001b[0;31mAttributeError\u001b[0m: 'function' object has no attribute 'initialize'"
          ]
        }
      ]
    },
    {
      "cell_type": "code",
      "source": [
        "# state = iterative_process.initialize()\n",
        "# for round_num in range(10):\n",
        "#     state, metrics = iterative_process.next(state, train_clients_data)\n",
        "#     print(f\"Round {round_num + 1}, Metrics: {metrics}\")"
      ],
      "metadata": {
        "id": "sKFNwrpn50IU"
      },
      "execution_count": null,
      "outputs": []
    },
    {
      "cell_type": "code",
      "source": [],
      "metadata": {
        "id": "oFIAyohB51Hc"
      },
      "execution_count": null,
      "outputs": []
    },
    {
      "cell_type": "code",
      "source": [],
      "metadata": {
        "id": "HGnNqa9N50_S"
      },
      "execution_count": null,
      "outputs": []
    },
    {
      "cell_type": "code",
      "source": [
        "# def extract_features(audio, sample_rate=16000):\n",
        "#     \"\"\"\n",
        "#     Extract multiple audio features from a waveform.\n",
        "#     Args:\n",
        "#         audio (tf.Tensor): Audio waveform (1D tensor).\n",
        "#         sample_rate (int): Sample rate of the audio.\n",
        "#     Returns:\n",
        "#         features (dict): Dictionary of extracted features.\n",
        "#     \"\"\"\n",
        "#     audio = audio.numpy()  # Convert TensorFlow tensor to NumPy array\n",
        "#     features = {}\n",
        "\n",
        "#     # 1. MFCCs\n",
        "#     mfccs = librosa.feature.mfcc(y=audio, sr=sample_rate, n_mfcc=13)\n",
        "#     features['mfccs'] = mfccs.T  # Transpose to match time steps\n",
        "\n",
        "#     # 2. Chroma Features\n",
        "#     chroma = librosa.feature.chroma_stft(y=audio, sr=sample_rate)\n",
        "#     features['chroma'] = chroma.T\n",
        "\n",
        "#     # 3. Spectral Contrast\n",
        "#     spectral_contrast = librosa.feature.spectral_contrast(y=audio, sr=sample_rate)\n",
        "#     features['spectral_contrast'] = spectral_contrast.T\n",
        "\n",
        "#     # 4. Zero-Crossing Rate\n",
        "#     zero_crossing_rate = librosa.feature.zero_crossing_rate(audio)\n",
        "#     features['zero_crossing_rate'] = zero_crossing_rate.T\n",
        "\n",
        "#     # 5. RMS Energy\n",
        "#     rms_energy = librosa.feature.rms(y=audio)\n",
        "#     features['rms_energy'] = rms_energy.T\n",
        "\n",
        "#     # 6. Mel Spectrogram\n",
        "#     mel_spectrogram = librosa.feature.melspectrogram(y=audio, sr=sample_rate)\n",
        "#     features['mel_spectrogram'] = mel_spectrogram.T\n",
        "\n",
        "#     return features\n"
      ],
      "metadata": {
        "id": "c8QoUnFSsfd9"
      },
      "execution_count": null,
      "outputs": []
    },
    {
      "cell_type": "code",
      "source": [],
      "metadata": {
        "id": "f84DJOG4vHtW"
      },
      "execution_count": null,
      "outputs": []
    },
    {
      "cell_type": "code",
      "source": [],
      "metadata": {
        "id": "NHptVpKz4Yh0"
      },
      "execution_count": null,
      "outputs": []
    }
  ]
}